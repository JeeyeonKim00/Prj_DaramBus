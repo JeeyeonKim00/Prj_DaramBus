{
 "cells": [
  {
   "cell_type": "code",
   "execution_count": 57,
   "metadata": {},
   "outputs": [],
   "source": [
    "import requests\n",
    "from datetime import *\n",
    "import time\n",
    "from urllib.parse import unquote\n",
    "from urllib.parse import quote_plus\n",
    "from urllib.parse import unquote_plus\n",
    "from urllib.parse import urlencode\n",
    "\n",
    "\n",
    "url = \"http://apis.data.go.kr/1360000/VilageFcstInfoService_2.0/getVilageFcst\"\n",
    "\n",
    "serviceKey=\"GdenAOBzMnIcPEJ6tyQqFbbSrAB%2B81vv7NDRBKe%2FbjomnxP5MpRkqe877BlZoLFm%2FqF35QGJcXvzteALmxDurg%3D%3D\"\n",
    "serviceKeyDecoded = unquote(serviceKey, 'UTF-8')\n",
    "\n",
    "now = datetime.now()\n",
    "today = datetime.today().strftime(\"%Y%m%d\")\n",
    "y = date.today() - timedelta(days=1)\n",
    "yesterday = y.strftime(\"%Y%m%d\")\n",
    "nx = 60 # 위도와 경도를 x,y좌표로 변경\n",
    "ny = 127\n",
    "\n",
    "if now.hour>=23 and now.minute >10: # base_time와 base_date 구하는 함수\n",
    "    base_time = \"2310\"\n",
    "    base_date = today\n",
    "else : \n",
    "    base_time = \"2310\"\n",
    "    base_date = yesterday"
   ]
  },
  {
   "cell_type": "code",
   "execution_count": 229,
   "metadata": {},
   "outputs": [
    {
     "name": "stdout",
     "output_type": "stream",
     "text": [
      "response:  {'fcstDate': ['20230704', '20230704', '20230704', '20230704', '20230704', '20230704', '20230704', '20230704', '20230704', '20230704', '20230704', '20230704', '20230704', '20230704', '20230704', '20230704', '20230704', '20230704', '20230704', '20230704', '20230704', '20230704', '20230704', '20230704'], 'fcstTime': ['0000', '0100', '0200', '0300', '0400', '0500', '0600', '0700', '0800', '0900', '1000', '1100', '1200', '1300', '1400', '1500', '1600', '1700', '1800', '1900', '2000', '2100', '2200', '2300'], 'tmp_hour': ['27', '26', '26', '25', '25', '25', '25', '25', '26', '27', '28', '28', '29', '29', '29', '28', '27', '27', '26', '26', '26', '26', '26', '25'], 'sky': ['1', '1', '1', '3', '3', '4', '4', '4', '4', '4', '4', '4', '4', '4', '4', '4', '4', '4', '4', '4', '4', '4', '4', '4'], 'rain_type': ['0', '0', '0', '0', '0', '0', '0', '0', '0', '0', '0', '0', '0', '0', '1', '1', '1', '1', '0', '1', '1', '1', '1', '1'], 'rain_prb': ['0', '0', '0', '20', '20', '30', '30', '30', '30', '30', '30', '30', '30', '30', '60', '69', '64', '60', '30', '60', '60', '64', '61', '94'], 'rain': ['강수없음', '강수없음', '강수없음', '강수없음', '강수없음', '강수없음', '강수없음', '강수없음', '강수없음', '강수없음', '강수없음', '강수없음', '강수없음', '강수없음', '2.0mm', '2.0mm', '2.0mm', '1.0mm', '강수없음', '2.0mm', '4.0mm', '7.0mm', '7.0mm', '8.0mm'], 'hum': ['75', '80', '80', '85', '85', '85', '85', '85', '85', '80', '75', '75', '70', '70', '75', '80', '85', '90', '90', '90', '90', '90', '90', '90'], 'tmp_low': ['23.0', '23.0', '23.0', '23.0', '23.0', '23.0', '23.0', '23.0', '23.0', '23.0', '23.0', '23.0', '23.0', '23.0', '23.0', '23.0', '23.0', '23.0', '23.0', '23.0', '23.0', '23.0', '23.0', '23.0'], 'tmp_high': ['30.0', '30.0', '30.0', '30.0', '30.0', '30.0', '30.0', '30.0', '30.0', '30.0', '30.0', '30.0', '30.0', '30.0', '30.0', '30.0', '30.0', '30.0', '30.0', '30.0', '30.0', '30.0', '30.0', '30.0']}\n"
     ]
    }
   ],
   "source": [
    "# queryParams = '?' + urlencode({ quote_plus('serviceKey') : serviceKeyDecoded, quote_plus('base_date') : base_date,\n",
    "#                                 quote_plus('base_time') : base_time, quote_plus('nx') : nx, quote_plus('ny') : ny,\n",
    "#                                 quote_plus('dataType') : 'json', quote_plus('numOfRows') : '289'}) #페이지로 안나누고 한번에 받아오기 위해 numOfRows=120으로 설정해주었다\n",
    "#                                 # 기상데이터는 12개로 12단위로 곱해서 row값을 정할 것, 24시간으로 하면 +1(최고기온떄문에)\n",
    "\n",
    "# # 값 요청 (웹 브라우저 서버에서 요청 - url주소와 파라미터)\n",
    "# res = requests.get(url + queryParams, verify=False) # verify=False이거 안 넣으면 에러남ㅜㅜ\n",
    "# items = res.json().get('response').get('body').get('items') #데이터들 아이템에 저장\n",
    "# # print(items)# 테스트\n",
    "\n",
    "weather_data = dict()\n",
    "\n",
    "# dictionary value값에 새로운 값을 더하도록 설계\n",
    "for item in items['item']:\n",
    "    # 예보 날짜 및 시간\n",
    "    if item['category'] == 'TMP':\n",
    "        try: \n",
    "            weather_data['fcstDate'] += [item['fcstDate']]\n",
    "        except:\n",
    "            weather_data['fcstDate'] = [item['fcstDate']]\n",
    "    if item['category'] == 'TMP':\n",
    "        try:\n",
    "            weather_data['fcstTime'] += [item['fcstTime']]\n",
    "        except:\n",
    "            weather_data['fcstTime'] = [item['fcstTime']]\n",
    "    # 기온\n",
    "    if item['category'] == 'TMP':\n",
    "        try:\n",
    "            weather_data['tmp_hour'] += [item['fcstValue']]\n",
    "        except:\n",
    "            weather_data['tmp_hour'] = [item['fcstValue']]\n",
    "    if item['category'] == 'TMN':\n",
    "        try:\n",
    "            weather_data['tmp_low'] += [weather_data['tmp_low'][0]]\n",
    "        except:\n",
    "            weather_data['tmp_low'] = [item['fcstValue']]\n",
    "    if item['category'] == 'TMX':\n",
    "        try:\n",
    "            weather_data['tmp_high'] += [weather_data['tmp_high'][0]]\n",
    "        except:\n",
    "            weather_data['tmp_high'] = [item['fcstValue']]\n",
    "    # 습도\n",
    "    if item['category'] == 'REH':\n",
    "        try:\n",
    "            weather_data['hum'] += [item['fcstValue']]\n",
    "        except:\n",
    "            weather_data['hum'] = [item['fcstValue']]\n",
    "    # 하늘상태: 맑음(1) 구름많은(3) 흐림(4)\n",
    "    if item['category'] == 'SKY':\n",
    "        try:\n",
    "            weather_data['sky'] += [item['fcstValue']]\n",
    "        except:\n",
    "            weather_data['sky'] = [item['fcstValue']]\n",
    "    # 1시간 동안 강수량\n",
    "    if item['category'] == 'PCP':\n",
    "        try:\n",
    "            weather_data['rain'] += [item['fcstValue']]\n",
    "        except:\n",
    "            weather_data['rain'] = [item['fcstValue']]\n",
    "    # 강수확률\n",
    "    if item['category'] == 'POP':\n",
    "        try:\n",
    "            weather_data['rain_prb'] += [item['fcstValue']]\n",
    "        except:\n",
    "            weather_data['rain_prb'] = [item['fcstValue']]\n",
    "    # 강수형태 (단기) 없음(0), 비(1), 비/눈(2), 눈(3), 소나기(4) \n",
    "    if item['category'] == 'PTY':\n",
    "        try:\n",
    "            weather_data['rain_type'] += [item['fcstValue']]\n",
    "        except:\n",
    "            weather_data['rain_type'] = [item['fcstValue']]\n",
    "            \n",
    "weather_data['tmp_low'] = weather_data['tmp_low']*len(weather_data[\"tmp_hour\"])\n",
    "weather_data['tmp_high'] = weather_data['tmp_high']*len(weather_data[\"tmp_hour\"])\n",
    "print(\"response: \", weather_data)"
   ]
  },
  {
   "cell_type": "code",
   "execution_count": null,
   "metadata": {},
   "outputs": [],
   "source": [
    "# 위도 경도를 X,Y 좌표로 바꾸기\n",
    "\n",
    "import math\n",
    "NX = 149            ## X축 격자점 수\n",
    "NY = 253            ## Y축 격자점 수\n",
    "\n",
    "Re = 6371.00877     ##  지도반경\n",
    "grid = 5.0          ##  격자간격 (km)\n",
    "slat1 = 30.0        ##  표준위도 1\n",
    "slat2 = 60.0        ##  표준위도 2\n",
    "olon = 126.0        ##  기준점 경도\n",
    "olat = 38.0         ##  기준점 위도\n",
    "xo = 210 / grid     ##  기준점 X좌표\n",
    "yo = 675 / grid     ##  기준점 Y좌표\n",
    "first = 0\n",
    "\n",
    "if first == 0 :\n",
    "    PI = math.asin(1.0) * 2.0\n",
    "    DEGRAD = PI/ 180.0\n",
    "    RADDEG = 180.0 / PI\n",
    "\n",
    "\n",
    "    re = Re / grid\n",
    "    slat1 = slat1 * DEGRAD\n",
    "    slat2 = slat2 * DEGRAD\n",
    "    olon = olon * DEGRAD\n",
    "    olat = olat * DEGRAD\n",
    "\n",
    "    sn = math.tan(PI * 0.25 + slat2 * 0.5) / math.tan(PI * 0.25 + slat1 * 0.5)\n",
    "    sn = math.log(math.cos(slat1) / math.cos(slat2)) / math.log(sn)\n",
    "    sf = math.tan(PI * 0.25 + slat1 * 0.5)\n",
    "    sf = math.pow(sf, sn) * math.cos(slat1) / sn\n",
    "    ro = math.tan(PI * 0.25 + olat * 0.5)\n",
    "    ro = re * sf / math.pow(ro, sn)\n",
    "    first = 1\n",
    "\n",
    "def mapToGrid(lat, lon, code = 0 ):\n",
    "    ra = math.tan(PI * 0.25 + lat * DEGRAD * 0.5)\n",
    "    ra = re * sf / pow(ra, sn)\n",
    "    theta = lon * DEGRAD - olon\n",
    "    if theta > PI :\n",
    "        theta -= 2.0 * PI\n",
    "    if theta < -PI :\n",
    "        theta += 2.0 * PI\n",
    "    theta *= sn\n",
    "    x = (ra * math.sin(theta)) + xo\n",
    "    y = (ro - ra * math.cos(theta)) + yo\n",
    "    x = int(x + 1.5)\n",
    "    y = int(y + 1.5)\n",
    "    return x, y\n",
    "\n",
    "def gridToMap(x, y, code = 1):\n",
    "    x = x - 1\n",
    "    y = y - 1\n",
    "    xn = x - xo\n",
    "    yn = ro - y + yo\n",
    "    ra = math.sqrt(xn * xn + yn * yn)\n",
    "    if sn < 0.0 :\n",
    "        ra = -ra\n",
    "    alat = math.pow((re * sf / ra), (1.0 / sn))\n",
    "    alat = 2.0 * math.atan(alat) - PI * 0.5\n",
    "    if math.fabs(xn) <= 0.0 :\n",
    "        theta = 0.0\n",
    "    else :\n",
    "        if math.fabs(yn) <= 0.0 :\n",
    "            theta = PI * 0.5\n",
    "            if xn < 0.0 :\n",
    "                theta = -theta\n",
    "        else :\n",
    "            theta = math.atan2(xn, yn)\n",
    "    alon = theta / sn + olon\n",
    "    lat = alat * RADDEG\n",
    "    lon = alon * RADDEG\n",
    "\n",
    "    return lat, lon"
   ]
  },
  {
   "cell_type": "code",
   "execution_count": 223,
   "metadata": {},
   "outputs": [
    {
     "data": {
      "text/plain": [
       "dict_values([['20230704', '20230704', '20230704', '20230704', '20230704', '20230704', '20230704', '20230704', '20230704', '20230704', '20230704', '20230704', '20230704', '20230704', '20230704', '20230704', '20230704', '20230704', '20230704', '20230704', '20230704', '20230704', '20230704', '20230704'], ['0000', '0100', '0200', '0300', '0400', '0500', '0600', '0700', '0800', '0900', '1000', '1100', '1200', '1300', '1400', '1500', '1600', '1700', '1800', '1900', '2000', '2100', '2200', '2300'], ['27', '26', '26', '25', '25', '25', '25', '25', '26', '27', '28', '28', '29', '29', '29', '28', '27', '27', '26', '26', '26', '26', '26', '25'], ['1', '1', '1', '3', '3', '4', '4', '4', '4', '4', '4', '4', '4', '4', '4', '4', '4', '4', '4', '4', '4', '4', '4', '4'], ['0', '0', '0', '0', '0', '0', '0', '0', '0', '0', '0', '0', '0', '0', '1', '1', '1', '1', '0', '1', '1', '1', '1', '1'], ['0', '0', '0', '20', '20', '30', '30', '30', '30', '30', '30', '30', '30', '30', '60', '69', '64', '60', '30', '60', '60', '64', '61', '94'], ['강수없음', '강수없음', '강수없음', '강수없음', '강수없음', '강수없음', '강수없음', '강수없음', '강수없음', '강수없음', '강수없음', '강수없음', '강수없음', '강수없음', '2.0mm', '2.0mm', '2.0mm', '1.0mm', '강수없음', '2.0mm', '4.0mm', '7.0mm', '7.0mm', '8.0mm'], ['75', '80', '80', '85', '85', '85', '85', '85', '85', '80', '75', '75', '70', '70', '75', '80', '85', '90', '90', '90', '90', '90', '90', '90'], ['23.0', '23.0', '23.0', '23.0', '23.0', '23.0', '23.0', '23.0', '23.0', '23.0', '23.0', '23.0'], ['30.0', '30.0', '30.0', '30.0', '30.0', '30.0', '30.0', '30.0', '30.0', '30.0', '30.0', '30.0']])"
      ]
     },
     "execution_count": 223,
     "metadata": {},
     "output_type": "execute_result"
    }
   ],
   "source": [
    "weather_data.values()"
   ]
  },
  {
   "cell_type": "code",
   "execution_count": 230,
   "metadata": {},
   "outputs": [
    {
     "name": "stdout",
     "output_type": "stream",
     "text": [
      "fcstDate 24\n",
      "fcstTime 24\n",
      "tmp_hour 24\n",
      "sky 24\n",
      "rain_type 24\n",
      "rain_prb 24\n",
      "rain 24\n",
      "hum 24\n",
      "tmp_low 24\n",
      "tmp_high 24\n"
     ]
    }
   ],
   "source": [
    "# 키 별 값의 개수 구하기 \n",
    "for j,k in weather_data.items():\n",
    "    print(j, len(k))"
   ]
  },
  {
   "cell_type": "code",
   "execution_count": 213,
   "metadata": {},
   "outputs": [
    {
     "name": "stdout",
     "output_type": "stream",
     "text": [
      "TMP\n",
      "UUU\n",
      "VVV\n",
      "VEC\n",
      "WSD\n",
      "SKY\n",
      "PTY\n",
      "POP\n",
      "WAV\n",
      "PCP\n",
      "REH\n",
      "SNO\n"
     ]
    }
   ],
   "source": [
    "# 키 값 확인하기\n",
    "for i in range(12):\n",
    "    print(items[\"item\"][i][\"category\"])"
   ]
  },
  {
   "cell_type": "code",
   "execution_count": 231,
   "metadata": {},
   "outputs": [],
   "source": [
    "# 기상 데이터프레임화\n",
    "import pandas as pd\n",
    "weather_data_df=pd.DataFrame(weather_data)"
   ]
  },
  {
   "cell_type": "code",
   "execution_count": 233,
   "metadata": {},
   "outputs": [],
   "source": [
    "import pickle\n",
    "with open(\"weather_data_df\", \"wb\") as f:\n",
    "    pickle.dump(weather_data_df, f)\n"
   ]
  },
  {
   "cell_type": "code",
   "execution_count": null,
   "metadata": {},
   "outputs": [],
   "source": []
  }
 ],
 "metadata": {
  "kernelspec": {
   "display_name": "base",
   "language": "python",
   "name": "python3"
  },
  "language_info": {
   "codemirror_mode": {
    "name": "ipython",
    "version": 3
   },
   "file_extension": ".py",
   "mimetype": "text/x-python",
   "name": "python",
   "nbconvert_exporter": "python",
   "pygments_lexer": "ipython3",
   "version": "3.9.13"
  },
  "orig_nbformat": 4,
  "vscode": {
   "interpreter": {
    "hash": "e35aa464e4f518e3bd80b827b0a7a82608bf016d4c837622545242b48b9bfee6"
   }
  }
 },
 "nbformat": 4,
 "nbformat_minor": 2
}
