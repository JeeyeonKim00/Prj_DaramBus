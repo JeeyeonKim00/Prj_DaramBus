{
 "cells": [
  {
   "cell_type": "code",
   "execution_count": 112,
   "metadata": {},
   "outputs": [
    {
     "name": "stdout",
     "output_type": "stream",
     "text": [
      "컬럼명 :  ['기준_날짜', '노선_ID', '출발_정류장_ID', '도착_정류장_ID', '정류장_순서', '재차인원합_일', '재차인원합_0시', '재차인원합_1시', '재차인원합_2시', '재차인원합_3시', '재차인원합_4시', '재차인원합_5시', '재차인원합_6시', '재차인원합_7시', '재차인원합_8시', '재차인원합_9시', '재차인원합_10시', '재차인원합_11시', '재차인원합_12시', '재차인원합_13시', '재차인원합_14시', '재차인원합_15시', '재차인원합_16시', '재차인원합_17시', '재차인원합_18시', '재차인원합_19시', '재차인원합_20시', '재차인원합_21시', '재차인원합_22시', '재차인원합_23시']\n"
     ]
    }
   ],
   "source": [
    "from utils import *\n",
    "\n",
    "action_mysql()\n",
    "bus_passengers=call_dataframe('Bus_Num_Passengers')"
   ]
  },
  {
   "cell_type": "code",
   "execution_count": 113,
   "metadata": {},
   "outputs": [],
   "source": [
    "# 재차인원, 날짜 지정\n",
    "bus_passengers_20230605 = bus_passengers[bus_passengers[\"기준_날짜\"]==20230605]"
   ]
  },
  {
   "cell_type": "code",
   "execution_count": 114,
   "metadata": {},
   "outputs": [],
   "source": [
    "# 특정 컬럼만 추출\n",
    "bus_passengers_20230605 = bus_passengers_20230605[['기준_날짜', '노선_ID', '출발_정류장_ID', '도착_정류장_ID', '정류장_순서','재차인원합_6시', '재차인원합_7시', '재차인원합_8시', '재차인원합_9시']]"
   ]
  },
  {
   "cell_type": "code",
   "execution_count": 115,
   "metadata": {},
   "outputs": [
    {
     "name": "stdout",
     "output_type": "stream",
     "text": [
      "<class 'pandas.core.frame.DataFrame'>\n",
      "Int64Index: 37792 entries, 0 to 37791\n",
      "Data columns (total 9 columns):\n",
      " #   Column     Non-Null Count  Dtype  \n",
      "---  ------     --------------  -----  \n",
      " 0   기준_날짜      37792 non-null  int64  \n",
      " 1   노선_ID      37792 non-null  int64  \n",
      " 2   출발_정류장_ID  37792 non-null  int64  \n",
      " 3   도착_정류장_ID  37792 non-null  int64  \n",
      " 4   정류장_순서     37792 non-null  int64  \n",
      " 5   재차인원합_6시   34709 non-null  float64\n",
      " 6   재차인원합_7시   34255 non-null  float64\n",
      " 7   재차인원합_8시   33986 non-null  float64\n",
      " 8   재차인원합_9시   33768 non-null  float64\n",
      "dtypes: float64(4), int64(5)\n",
      "memory usage: 2.9 MB\n"
     ]
    }
   ],
   "source": [
    "# 정보 확인\n",
    "bus_passengers_20230605.info()"
   ]
  },
  {
   "cell_type": "code",
   "execution_count": 116,
   "metadata": {},
   "outputs": [
    {
     "data": {
      "text/plain": [
       "기준_날짜            1\n",
       "노선_ID          629\n",
       "출발_정류장_ID    12366\n",
       "도착_정류장_ID    12336\n",
       "정류장_순서         186\n",
       "재차인원합_6시       469\n",
       "재차인원합_7시       457\n",
       "재차인원합_8시       377\n",
       "재차인원합_9시       327\n",
       "dtype: int64"
      ]
     },
     "execution_count": 116,
     "metadata": {},
     "output_type": "execute_result"
    }
   ],
   "source": [
    "bus_passengers_20230605.nunique()"
   ]
  },
  {
   "cell_type": "code",
   "execution_count": 117,
   "metadata": {},
   "outputs": [
    {
     "name": "stdout",
     "output_type": "stream",
     "text": [
      "컬럼명 :  ['ROUTE_ID', '노선명', '순번', 'NODE_ID', 'ARS_ID', '정류소명', 'X좌표', 'Y좌표']\n"
     ]
    }
   ],
   "source": [
    "# 정류장 정보. 좌표, NODE_ID기준 중복제거 필요\n",
    "station_info=call_dataframe('Bus_Station_Info')"
   ]
  },
  {
   "cell_type": "code",
   "execution_count": 118,
   "metadata": {},
   "outputs": [
    {
     "name": "stdout",
     "output_type": "stream",
     "text": [
      "<class 'pandas.core.frame.DataFrame'>\n",
      "RangeIndex: 46412 entries, 0 to 46411\n",
      "Data columns (total 8 columns):\n",
      " #   Column    Non-Null Count  Dtype  \n",
      "---  ------    --------------  -----  \n",
      " 0   ROUTE_ID  46412 non-null  int64  \n",
      " 1   노선명       46412 non-null  object \n",
      " 2   순번        46412 non-null  int64  \n",
      " 3   NODE_ID   46412 non-null  int64  \n",
      " 4   ARS_ID    46412 non-null  int64  \n",
      " 5   정류소명      46412 non-null  object \n",
      " 6   X좌표       46412 non-null  float64\n",
      " 7   Y좌표       46412 non-null  float64\n",
      "dtypes: float64(2), int64(4), object(2)\n",
      "memory usage: 2.8+ MB\n"
     ]
    }
   ],
   "source": [
    "station_info.info()"
   ]
  },
  {
   "cell_type": "code",
   "execution_count": 119,
   "metadata": {},
   "outputs": [
    {
     "data": {
      "text/plain": [
       "ROUTE_ID      771\n",
       "노선명           766\n",
       "순번            187\n",
       "NODE_ID     13491\n",
       "ARS_ID      13448\n",
       "정류소명         8479\n",
       "X좌표         13488\n",
       "Y좌표         13485\n",
       "dtype: int64"
      ]
     },
     "execution_count": 119,
     "metadata": {},
     "output_type": "execute_result"
    }
   ],
   "source": [
    "station_info.nunique()"
   ]
  },
  {
   "cell_type": "code",
   "execution_count": 120,
   "metadata": {},
   "outputs": [],
   "source": [
    "# 중복된 정류소 제거\n",
    "station_info.drop_duplicates(subset=\"NODE_ID\",inplace=True)"
   ]
  },
  {
   "cell_type": "code",
   "execution_count": 121,
   "metadata": {},
   "outputs": [
    {
     "name": "stdout",
     "output_type": "stream",
     "text": [
      "<class 'pandas.core.frame.DataFrame'>\n",
      "Int64Index: 13491 entries, 0 to 46411\n",
      "Data columns (total 8 columns):\n",
      " #   Column    Non-Null Count  Dtype  \n",
      "---  ------    --------------  -----  \n",
      " 0   ROUTE_ID  13491 non-null  int64  \n",
      " 1   노선명       13491 non-null  object \n",
      " 2   순번        13491 non-null  int64  \n",
      " 3   NODE_ID   13491 non-null  int64  \n",
      " 4   ARS_ID    13491 non-null  int64  \n",
      " 5   정류소명      13491 non-null  object \n",
      " 6   X좌표       13491 non-null  float64\n",
      " 7   Y좌표       13491 non-null  float64\n",
      "dtypes: float64(2), int64(4), object(2)\n",
      "memory usage: 948.6+ KB\n"
     ]
    }
   ],
   "source": [
    "station_info.info()"
   ]
  },
  {
   "cell_type": "code",
   "execution_count": 122,
   "metadata": {},
   "outputs": [
    {
     "data": {
      "text/plain": [
       "ROUTE_ID      673\n",
       "노선명           672\n",
       "순번            186\n",
       "NODE_ID     13491\n",
       "ARS_ID      13448\n",
       "정류소명         8479\n",
       "X좌표         13488\n",
       "Y좌표         13485\n",
       "dtype: int64"
      ]
     },
     "execution_count": 122,
     "metadata": {},
     "output_type": "execute_result"
    }
   ],
   "source": [
    "station_info.nunique()"
   ]
  },
  {
   "cell_type": "code",
   "execution_count": 123,
   "metadata": {},
   "outputs": [
    {
     "data": {
      "text/html": [
       "<div>\n",
       "<style scoped>\n",
       "    .dataframe tbody tr th:only-of-type {\n",
       "        vertical-align: middle;\n",
       "    }\n",
       "\n",
       "    .dataframe tbody tr th {\n",
       "        vertical-align: top;\n",
       "    }\n",
       "\n",
       "    .dataframe thead th {\n",
       "        text-align: right;\n",
       "    }\n",
       "</style>\n",
       "<table border=\"1\" class=\"dataframe\">\n",
       "  <thead>\n",
       "    <tr style=\"text-align: right;\">\n",
       "      <th></th>\n",
       "      <th>ROUTE_ID</th>\n",
       "      <th>노선명</th>\n",
       "      <th>순번</th>\n",
       "      <th>NODE_ID</th>\n",
       "      <th>ARS_ID</th>\n",
       "      <th>정류소명</th>\n",
       "      <th>X좌표</th>\n",
       "      <th>Y좌표</th>\n",
       "    </tr>\n",
       "  </thead>\n",
       "  <tbody>\n",
       "    <tr>\n",
       "      <th>0</th>\n",
       "      <td>100100073</td>\n",
       "      <td>470</td>\n",
       "      <td>66</td>\n",
       "      <td>100000001</td>\n",
       "      <td>1001</td>\n",
       "      <td>종로2가사거리</td>\n",
       "      <td>126.987750</td>\n",
       "      <td>37.569765</td>\n",
       "    </tr>\n",
       "    <tr>\n",
       "      <th>3</th>\n",
       "      <td>100100007</td>\n",
       "      <td>102</td>\n",
       "      <td>31</td>\n",
       "      <td>100000002</td>\n",
       "      <td>1002</td>\n",
       "      <td>창경궁.서울대학교병원</td>\n",
       "      <td>126.996566</td>\n",
       "      <td>37.579183</td>\n",
       "    </tr>\n",
       "    <tr>\n",
       "      <th>23</th>\n",
       "      <td>100100007</td>\n",
       "      <td>102</td>\n",
       "      <td>30</td>\n",
       "      <td>100000003</td>\n",
       "      <td>1003</td>\n",
       "      <td>명륜3가.성대입구</td>\n",
       "      <td>126.998340</td>\n",
       "      <td>37.582671</td>\n",
       "    </tr>\n",
       "    <tr>\n",
       "      <th>43</th>\n",
       "      <td>100100001</td>\n",
       "      <td>01</td>\n",
       "      <td>23</td>\n",
       "      <td>100000004</td>\n",
       "      <td>1004</td>\n",
       "      <td>종로2가.삼일교</td>\n",
       "      <td>126.987613</td>\n",
       "      <td>37.568579</td>\n",
       "    </tr>\n",
       "    <tr>\n",
       "      <th>52</th>\n",
       "      <td>100100007</td>\n",
       "      <td>102</td>\n",
       "      <td>29</td>\n",
       "      <td>100000005</td>\n",
       "      <td>1005</td>\n",
       "      <td>혜화동로터리.여운형활동터</td>\n",
       "      <td>127.001744</td>\n",
       "      <td>37.586243</td>\n",
       "    </tr>\n",
       "    <tr>\n",
       "      <th>...</th>\n",
       "      <td>...</td>\n",
       "      <td>...</td>\n",
       "      <td>...</td>\n",
       "      <td>...</td>\n",
       "      <td>...</td>\n",
       "      <td>...</td>\n",
       "      <td>...</td>\n",
       "      <td>...</td>\n",
       "    </tr>\n",
       "    <tr>\n",
       "      <th>46407</th>\n",
       "      <td>100100402</td>\n",
       "      <td>9709</td>\n",
       "      <td>121</td>\n",
       "      <td>277103898</td>\n",
       "      <td>63629</td>\n",
       "      <td>조리사거리(경유)</td>\n",
       "      <td>126.801589</td>\n",
       "      <td>37.747464</td>\n",
       "    </tr>\n",
       "    <tr>\n",
       "      <th>46408</th>\n",
       "      <td>100100551</td>\n",
       "      <td>673</td>\n",
       "      <td>84</td>\n",
       "      <td>277104249</td>\n",
       "      <td>15452</td>\n",
       "      <td>고강지하차도입구(경유)</td>\n",
       "      <td>126.815691</td>\n",
       "      <td>37.537815</td>\n",
       "    </tr>\n",
       "    <tr>\n",
       "      <th>46409</th>\n",
       "      <td>100100551</td>\n",
       "      <td>673</td>\n",
       "      <td>26</td>\n",
       "      <td>277104250</td>\n",
       "      <td>15451</td>\n",
       "      <td>고강지하차도입구(경유)</td>\n",
       "      <td>126.815765</td>\n",
       "      <td>37.537420</td>\n",
       "    </tr>\n",
       "    <tr>\n",
       "      <th>46410</th>\n",
       "      <td>100100551</td>\n",
       "      <td>673</td>\n",
       "      <td>85</td>\n",
       "      <td>277104251</td>\n",
       "      <td>15453</td>\n",
       "      <td>원종IC(경유)</td>\n",
       "      <td>126.805608</td>\n",
       "      <td>37.533829</td>\n",
       "    </tr>\n",
       "    <tr>\n",
       "      <th>46411</th>\n",
       "      <td>100100551</td>\n",
       "      <td>673</td>\n",
       "      <td>25</td>\n",
       "      <td>277104252</td>\n",
       "      <td>15450</td>\n",
       "      <td>원종IC(경유)</td>\n",
       "      <td>126.805695</td>\n",
       "      <td>37.533395</td>\n",
       "    </tr>\n",
       "  </tbody>\n",
       "</table>\n",
       "<p>13491 rows × 8 columns</p>\n",
       "</div>"
      ],
      "text/plain": [
       "        ROUTE_ID   노선명   순번    NODE_ID  ARS_ID           정류소명         X좌표  \\\n",
       "0      100100073   470   66  100000001    1001        종로2가사거리  126.987750   \n",
       "3      100100007   102   31  100000002    1002    창경궁.서울대학교병원  126.996566   \n",
       "23     100100007   102   30  100000003    1003      명륜3가.성대입구  126.998340   \n",
       "43     100100001    01   23  100000004    1004       종로2가.삼일교  126.987613   \n",
       "52     100100007   102   29  100000005    1005  혜화동로터리.여운형활동터  127.001744   \n",
       "...          ...   ...  ...        ...     ...            ...         ...   \n",
       "46407  100100402  9709  121  277103898   63629      조리사거리(경유)  126.801589   \n",
       "46408  100100551   673   84  277104249   15452   고강지하차도입구(경유)  126.815691   \n",
       "46409  100100551   673   26  277104250   15451   고강지하차도입구(경유)  126.815765   \n",
       "46410  100100551   673   85  277104251   15453       원종IC(경유)  126.805608   \n",
       "46411  100100551   673   25  277104252   15450       원종IC(경유)  126.805695   \n",
       "\n",
       "             Y좌표  \n",
       "0      37.569765  \n",
       "3      37.579183  \n",
       "23     37.582671  \n",
       "43     37.568579  \n",
       "52     37.586243  \n",
       "...          ...  \n",
       "46407  37.747464  \n",
       "46408  37.537815  \n",
       "46409  37.537420  \n",
       "46410  37.533829  \n",
       "46411  37.533395  \n",
       "\n",
       "[13491 rows x 8 columns]"
      ]
     },
     "execution_count": 123,
     "metadata": {},
     "output_type": "execute_result"
    }
   ],
   "source": [
    "# 중복된 정류소 제거된 DF\n",
    "station_info"
   ]
  },
  {
   "cell_type": "code",
   "execution_count": 124,
   "metadata": {},
   "outputs": [
    {
     "name": "stdout",
     "output_type": "stream",
     "text": [
      "컬럼명 :  ['업체명', '노선번호', '유형', '기점명', '종점명', '인가대수', '배차간격', '거리', '운행시간', '최소배차', '최대배차', '첫차시간', '막차시간']\n"
     ]
    }
   ],
   "source": [
    "# 시간별 버스 운행 대수 DF\n",
    "bus_hour_num=call_dataframe('Bus_Service_Info')"
   ]
  },
  {
   "cell_type": "code",
   "execution_count": 125,
   "metadata": {},
   "outputs": [],
   "source": [
    "# 시간당 배차 대수 컬럼 형성 \n",
    "bus_hour_num[\"배차대수\"] = round(60/bus_hour_num[\"배차간격\"],1)"
   ]
  },
  {
   "cell_type": "code",
   "execution_count": 126,
   "metadata": {},
   "outputs": [],
   "source": [
    "# 특정 컬럼 지정\n",
    "bus_hour_num = bus_hour_num[['노선번호','기점명', '종점명','배차대수']]"
   ]
  },
  {
   "cell_type": "code",
   "execution_count": 127,
   "metadata": {},
   "outputs": [
    {
     "name": "stdout",
     "output_type": "stream",
     "text": [
      "<class 'pandas.core.frame.DataFrame'>\n",
      "RangeIndex: 688 entries, 0 to 687\n",
      "Data columns (total 4 columns):\n",
      " #   Column  Non-Null Count  Dtype  \n",
      "---  ------  --------------  -----  \n",
      " 0   노선번호    688 non-null    object \n",
      " 1   기점명     688 non-null    object \n",
      " 2   종점명     688 non-null    object \n",
      " 3   배차대수    688 non-null    float64\n",
      "dtypes: float64(1), object(3)\n",
      "memory usage: 21.6+ KB\n"
     ]
    }
   ],
   "source": [
    "bus_hour_num.info()"
   ]
  },
  {
   "cell_type": "code",
   "execution_count": 128,
   "metadata": {},
   "outputs": [
    {
     "data": {
      "text/plain": [
       "노선번호    620\n",
       "기점명     355\n",
       "종점명     371\n",
       "배차대수     40\n",
       "dtype: int64"
      ]
     },
     "execution_count": 128,
     "metadata": {},
     "output_type": "execute_result"
    }
   ],
   "source": [
    "bus_hour_num.nunique()"
   ]
  },
  {
   "cell_type": "code",
   "execution_count": 129,
   "metadata": {},
   "outputs": [
    {
     "name": "stdout",
     "output_type": "stream",
     "text": [
      "컬럼명 :  ['노선명', 'ROUTEID']\n"
     ]
    }
   ],
   "source": [
    "# routeid와 노선명. 중간 이을 \n",
    "route_id_name=call_dataframe('Bus_Route_Id')"
   ]
  },
  {
   "cell_type": "code",
   "execution_count": 130,
   "metadata": {},
   "outputs": [
    {
     "name": "stdout",
     "output_type": "stream",
     "text": [
      "<class 'pandas.core.frame.DataFrame'>\n",
      "RangeIndex: 674 entries, 0 to 673\n",
      "Data columns (total 2 columns):\n",
      " #   Column   Non-Null Count  Dtype \n",
      "---  ------   --------------  ----- \n",
      " 0   노선명      674 non-null    object\n",
      " 1   ROUTEID  674 non-null    int64 \n",
      "dtypes: int64(1), object(1)\n",
      "memory usage: 10.7+ KB\n"
     ]
    }
   ],
   "source": [
    "route_id_name.info()"
   ]
  },
  {
   "cell_type": "code",
   "execution_count": 131,
   "metadata": {},
   "outputs": [
    {
     "data": {
      "text/plain": [
       "노선명        674\n",
       "ROUTEID    674\n",
       "dtype: int64"
      ]
     },
     "execution_count": 131,
     "metadata": {},
     "output_type": "execute_result"
    }
   ],
   "source": [
    "route_id_name.nunique()"
   ]
  },
  {
   "cell_type": "code",
   "execution_count": 132,
   "metadata": {},
   "outputs": [],
   "source": [
    "# 재차인원 루트id와 노선명 머지하기\n",
    "import pandas as pd\n",
    "bus_passengers_20230605_merge1=pd.merge(left = bus_passengers_20230605,right= route_id_name,how=\"inner\",left_on=\"노선_ID\",right_on=\"ROUTEID\")"
   ]
  },
  {
   "cell_type": "code",
   "execution_count": 133,
   "metadata": {},
   "outputs": [
    {
     "name": "stdout",
     "output_type": "stream",
     "text": [
      "<class 'pandas.core.frame.DataFrame'>\n",
      "Int64Index: 37792 entries, 0 to 37791\n",
      "Data columns (total 11 columns):\n",
      " #   Column     Non-Null Count  Dtype  \n",
      "---  ------     --------------  -----  \n",
      " 0   기준_날짜      37792 non-null  int64  \n",
      " 1   노선_ID      37792 non-null  int64  \n",
      " 2   출발_정류장_ID  37792 non-null  int64  \n",
      " 3   도착_정류장_ID  37792 non-null  int64  \n",
      " 4   정류장_순서     37792 non-null  int64  \n",
      " 5   재차인원합_6시   34709 non-null  float64\n",
      " 6   재차인원합_7시   34255 non-null  float64\n",
      " 7   재차인원합_8시   33986 non-null  float64\n",
      " 8   재차인원합_9시   33768 non-null  float64\n",
      " 9   노선명        37792 non-null  object \n",
      " 10  ROUTEID    37792 non-null  int64  \n",
      "dtypes: float64(4), int64(6), object(1)\n",
      "memory usage: 3.5+ MB\n"
     ]
    }
   ],
   "source": [
    "bus_passengers_20230605_merge1.info()"
   ]
  },
  {
   "cell_type": "code",
   "execution_count": 134,
   "metadata": {},
   "outputs": [
    {
     "data": {
      "text/plain": [
       "기준_날짜            1\n",
       "노선_ID          629\n",
       "출발_정류장_ID    12366\n",
       "도착_정류장_ID    12336\n",
       "정류장_순서         186\n",
       "재차인원합_6시       469\n",
       "재차인원합_7시       457\n",
       "재차인원합_8시       377\n",
       "재차인원합_9시       327\n",
       "노선명            629\n",
       "ROUTEID        629\n",
       "dtype: int64"
      ]
     },
     "execution_count": 134,
     "metadata": {},
     "output_type": "execute_result"
    }
   ],
   "source": [
    "bus_passengers_20230605_merge1.nunique()"
   ]
  },
  {
   "cell_type": "code",
   "execution_count": 135,
   "metadata": {},
   "outputs": [],
   "source": [
    "# 컬럼 추출\n",
    "bus_passengers_20230605_merge1 = bus_passengers_20230605_merge1[['기준_날짜', '노선_ID','노선명', '출발_정류장_ID', '도착_정류장_ID', '정류장_순서', '재차인원합_6시',\n",
    "       '재차인원합_7시', '재차인원합_8시', '재차인원합_9시']]"
   ]
  },
  {
   "cell_type": "code",
   "execution_count": 136,
   "metadata": {},
   "outputs": [],
   "source": [
    "# null값 제거\n",
    "bus_passengers_20230605_merge1.dropna(axis=0,inplace=True)"
   ]
  },
  {
   "cell_type": "code",
   "execution_count": 137,
   "metadata": {},
   "outputs": [
    {
     "name": "stdout",
     "output_type": "stream",
     "text": [
      "<class 'pandas.core.frame.DataFrame'>\n",
      "Int64Index: 33432 entries, 0 to 37791\n",
      "Data columns (total 10 columns):\n",
      " #   Column     Non-Null Count  Dtype  \n",
      "---  ------     --------------  -----  \n",
      " 0   기준_날짜      33432 non-null  int64  \n",
      " 1   노선_ID      33432 non-null  int64  \n",
      " 2   노선명        33432 non-null  object \n",
      " 3   출발_정류장_ID  33432 non-null  int64  \n",
      " 4   도착_정류장_ID  33432 non-null  int64  \n",
      " 5   정류장_순서     33432 non-null  int64  \n",
      " 6   재차인원합_6시   33432 non-null  float64\n",
      " 7   재차인원합_7시   33432 non-null  float64\n",
      " 8   재차인원합_8시   33432 non-null  float64\n",
      " 9   재차인원합_9시   33432 non-null  float64\n",
      "dtypes: float64(4), int64(5), object(1)\n",
      "memory usage: 2.8+ MB\n"
     ]
    }
   ],
   "source": [
    "# 노선명과 재차인원 합친 DF\n",
    "bus_passengers_20230605_merge1.info()"
   ]
  },
  {
   "cell_type": "code",
   "execution_count": 138,
   "metadata": {},
   "outputs": [],
   "source": [
    "# 시간당 배차대수 병합\n",
    "bus_passengers_20230605_merge2=pd.merge(left=bus_passengers_20230605_merge1,right=bus_hour_num ,how=\"inner\",left_on=\"노선명\",right_on=\"노선번호\")"
   ]
  },
  {
   "cell_type": "code",
   "execution_count": 139,
   "metadata": {},
   "outputs": [
    {
     "name": "stdout",
     "output_type": "stream",
     "text": [
      "<class 'pandas.core.frame.DataFrame'>\n",
      "Int64Index: 32873 entries, 0 to 32872\n",
      "Data columns (total 14 columns):\n",
      " #   Column     Non-Null Count  Dtype  \n",
      "---  ------     --------------  -----  \n",
      " 0   기준_날짜      32873 non-null  int64  \n",
      " 1   노선_ID      32873 non-null  int64  \n",
      " 2   노선명        32873 non-null  object \n",
      " 3   출발_정류장_ID  32873 non-null  int64  \n",
      " 4   도착_정류장_ID  32873 non-null  int64  \n",
      " 5   정류장_순서     32873 non-null  int64  \n",
      " 6   재차인원합_6시   32873 non-null  float64\n",
      " 7   재차인원합_7시   32873 non-null  float64\n",
      " 8   재차인원합_8시   32873 non-null  float64\n",
      " 9   재차인원합_9시   32873 non-null  float64\n",
      " 10  노선번호       32873 non-null  object \n",
      " 11  기점명        32873 non-null  object \n",
      " 12  종점명        32873 non-null  object \n",
      " 13  배차대수       32873 non-null  float64\n",
      "dtypes: float64(5), int64(5), object(4)\n",
      "memory usage: 3.8+ MB\n"
     ]
    }
   ],
   "source": [
    "bus_passengers_20230605_merge2.info()"
   ]
  },
  {
   "cell_type": "code",
   "execution_count": 140,
   "metadata": {},
   "outputs": [
    {
     "data": {
      "text/plain": [
       "기준_날짜            1\n",
       "노선_ID          494\n",
       "노선명            494\n",
       "출발_정류장_ID    11262\n",
       "도착_정류장_ID    11244\n",
       "정류장_순서         159\n",
       "재차인원합_6시       395\n",
       "재차인원합_7시       451\n",
       "재차인원합_8시       373\n",
       "재차인원합_9시       313\n",
       "노선번호           494\n",
       "기점명            277\n",
       "종점명            311\n",
       "배차대수            27\n",
       "dtype: int64"
      ]
     },
     "execution_count": 140,
     "metadata": {},
     "output_type": "execute_result"
    }
   ],
   "source": [
    "bus_passengers_20230605_merge2.nunique()"
   ]
  },
  {
   "cell_type": "code",
   "execution_count": 141,
   "metadata": {},
   "outputs": [
    {
     "data": {
      "text/plain": [
       "기준_날짜            1\n",
       "노선_ID          538\n",
       "노선명            538\n",
       "출발_정류장_ID    11528\n",
       "도착_정류장_ID    11508\n",
       "정류장_순서         159\n",
       "재차인원합_6시       400\n",
       "재차인원합_7시       457\n",
       "재차인원합_8시       377\n",
       "재차인원합_9시       323\n",
       "dtype: int64"
      ]
     },
     "execution_count": 141,
     "metadata": {},
     "output_type": "execute_result"
    }
   ],
   "source": [
    "bus_passengers_20230605_merge1.nunique()"
   ]
  },
  {
   "cell_type": "code",
   "execution_count": 145,
   "metadata": {},
   "outputs": [],
   "source": [
    "bus_passengers_20230605_merge2=bus_passengers_20230605_merge2[['기준_날짜', '노선_ID', '노선명', '출발_정류장_ID', '도착_정류장_ID', '정류장_순서','배차대수', '재차인원합_6시',\n",
    "       '재차인원합_7시', '재차인원합_8시', '재차인원합_9시']]"
   ]
  },
  {
   "cell_type": "code",
   "execution_count": 146,
   "metadata": {},
   "outputs": [
    {
     "data": {
      "text/html": [
       "<div>\n",
       "<style scoped>\n",
       "    .dataframe tbody tr th:only-of-type {\n",
       "        vertical-align: middle;\n",
       "    }\n",
       "\n",
       "    .dataframe tbody tr th {\n",
       "        vertical-align: top;\n",
       "    }\n",
       "\n",
       "    .dataframe thead th {\n",
       "        text-align: right;\n",
       "    }\n",
       "</style>\n",
       "<table border=\"1\" class=\"dataframe\">\n",
       "  <thead>\n",
       "    <tr style=\"text-align: right;\">\n",
       "      <th></th>\n",
       "      <th>기준_날짜</th>\n",
       "      <th>노선_ID</th>\n",
       "      <th>노선명</th>\n",
       "      <th>출발_정류장_ID</th>\n",
       "      <th>도착_정류장_ID</th>\n",
       "      <th>정류장_순서</th>\n",
       "      <th>배차대수</th>\n",
       "      <th>재차인원합_6시</th>\n",
       "      <th>재차인원합_7시</th>\n",
       "      <th>재차인원합_8시</th>\n",
       "      <th>재차인원합_9시</th>\n",
       "    </tr>\n",
       "  </thead>\n",
       "  <tbody>\n",
       "    <tr>\n",
       "      <th>0</th>\n",
       "      <td>20230605</td>\n",
       "      <td>100100001</td>\n",
       "      <td>01</td>\n",
       "      <td>100000004</td>\n",
       "      <td>101000001</td>\n",
       "      <td>23</td>\n",
       "      <td>7.5</td>\n",
       "      <td>10.0</td>\n",
       "      <td>16.0</td>\n",
       "      <td>13.0</td>\n",
       "      <td>12.0</td>\n",
       "    </tr>\n",
       "    <tr>\n",
       "      <th>1</th>\n",
       "      <td>20230605</td>\n",
       "      <td>100100001</td>\n",
       "      <td>01</td>\n",
       "      <td>100000023</td>\n",
       "      <td>100000415</td>\n",
       "      <td>16</td>\n",
       "      <td>7.5</td>\n",
       "      <td>17.0</td>\n",
       "      <td>94.0</td>\n",
       "      <td>93.0</td>\n",
       "      <td>281.0</td>\n",
       "    </tr>\n",
       "    <tr>\n",
       "      <th>2</th>\n",
       "      <td>20230605</td>\n",
       "      <td>100100001</td>\n",
       "      <td>01</td>\n",
       "      <td>100000104</td>\n",
       "      <td>100000413</td>\n",
       "      <td>21</td>\n",
       "      <td>7.5</td>\n",
       "      <td>5.0</td>\n",
       "      <td>15.0</td>\n",
       "      <td>14.0</td>\n",
       "      <td>13.0</td>\n",
       "    </tr>\n",
       "    <tr>\n",
       "      <th>3</th>\n",
       "      <td>20230605</td>\n",
       "      <td>100100001</td>\n",
       "      <td>01</td>\n",
       "      <td>100000413</td>\n",
       "      <td>100000004</td>\n",
       "      <td>22</td>\n",
       "      <td>7.5</td>\n",
       "      <td>10.0</td>\n",
       "      <td>16.0</td>\n",
       "      <td>17.0</td>\n",
       "      <td>17.0</td>\n",
       "    </tr>\n",
       "    <tr>\n",
       "      <th>4</th>\n",
       "      <td>20230605</td>\n",
       "      <td>100100001</td>\n",
       "      <td>01</td>\n",
       "      <td>100000415</td>\n",
       "      <td>100000416</td>\n",
       "      <td>17</td>\n",
       "      <td>7.5</td>\n",
       "      <td>15.0</td>\n",
       "      <td>82.0</td>\n",
       "      <td>71.0</td>\n",
       "      <td>241.0</td>\n",
       "    </tr>\n",
       "    <tr>\n",
       "      <th>...</th>\n",
       "      <td>...</td>\n",
       "      <td>...</td>\n",
       "      <td>...</td>\n",
       "      <td>...</td>\n",
       "      <td>...</td>\n",
       "      <td>...</td>\n",
       "      <td>...</td>\n",
       "      <td>...</td>\n",
       "      <td>...</td>\n",
       "      <td>...</td>\n",
       "      <td>...</td>\n",
       "    </tr>\n",
       "    <tr>\n",
       "      <th>32868</th>\n",
       "      <td>20230605</td>\n",
       "      <td>124900003</td>\n",
       "      <td>강동02</td>\n",
       "      <td>124900124</td>\n",
       "      <td>124900122</td>\n",
       "      <td>56</td>\n",
       "      <td>3.8</td>\n",
       "      <td>51.0</td>\n",
       "      <td>36.0</td>\n",
       "      <td>33.0</td>\n",
       "      <td>24.0</td>\n",
       "    </tr>\n",
       "    <tr>\n",
       "      <th>32869</th>\n",
       "      <td>20230605</td>\n",
       "      <td>124900003</td>\n",
       "      <td>강동02</td>\n",
       "      <td>124900127</td>\n",
       "      <td>124900129</td>\n",
       "      <td>2</td>\n",
       "      <td>3.8</td>\n",
       "      <td>1.0</td>\n",
       "      <td>9.0</td>\n",
       "      <td>3.0</td>\n",
       "      <td>4.0</td>\n",
       "    </tr>\n",
       "    <tr>\n",
       "      <th>32870</th>\n",
       "      <td>20230605</td>\n",
       "      <td>124900003</td>\n",
       "      <td>강동02</td>\n",
       "      <td>124900128</td>\n",
       "      <td>124900111</td>\n",
       "      <td>76</td>\n",
       "      <td>3.8</td>\n",
       "      <td>7.0</td>\n",
       "      <td>6.0</td>\n",
       "      <td>4.0</td>\n",
       "      <td>3.0</td>\n",
       "    </tr>\n",
       "    <tr>\n",
       "      <th>32871</th>\n",
       "      <td>20230605</td>\n",
       "      <td>124900003</td>\n",
       "      <td>강동02</td>\n",
       "      <td>124900129</td>\n",
       "      <td>124000459</td>\n",
       "      <td>3</td>\n",
       "      <td>3.8</td>\n",
       "      <td>6.0</td>\n",
       "      <td>15.0</td>\n",
       "      <td>7.0</td>\n",
       "      <td>4.0</td>\n",
       "    </tr>\n",
       "    <tr>\n",
       "      <th>32872</th>\n",
       "      <td>20230605</td>\n",
       "      <td>124900003</td>\n",
       "      <td>강동02</td>\n",
       "      <td>124900130</td>\n",
       "      <td>124900128</td>\n",
       "      <td>75</td>\n",
       "      <td>3.8</td>\n",
       "      <td>8.0</td>\n",
       "      <td>6.0</td>\n",
       "      <td>4.0</td>\n",
       "      <td>4.0</td>\n",
       "    </tr>\n",
       "  </tbody>\n",
       "</table>\n",
       "<p>32873 rows × 11 columns</p>\n",
       "</div>"
      ],
      "text/plain": [
       "          기준_날짜      노선_ID   노선명  출발_정류장_ID  도착_정류장_ID  정류장_순서  배차대수  \\\n",
       "0      20230605  100100001    01  100000004  101000001      23   7.5   \n",
       "1      20230605  100100001    01  100000023  100000415      16   7.5   \n",
       "2      20230605  100100001    01  100000104  100000413      21   7.5   \n",
       "3      20230605  100100001    01  100000413  100000004      22   7.5   \n",
       "4      20230605  100100001    01  100000415  100000416      17   7.5   \n",
       "...         ...        ...   ...        ...        ...     ...   ...   \n",
       "32868  20230605  124900003  강동02  124900124  124900122      56   3.8   \n",
       "32869  20230605  124900003  강동02  124900127  124900129       2   3.8   \n",
       "32870  20230605  124900003  강동02  124900128  124900111      76   3.8   \n",
       "32871  20230605  124900003  강동02  124900129  124000459       3   3.8   \n",
       "32872  20230605  124900003  강동02  124900130  124900128      75   3.8   \n",
       "\n",
       "       재차인원합_6시  재차인원합_7시  재차인원합_8시  재차인원합_9시  \n",
       "0          10.0      16.0      13.0      12.0  \n",
       "1          17.0      94.0      93.0     281.0  \n",
       "2           5.0      15.0      14.0      13.0  \n",
       "3          10.0      16.0      17.0      17.0  \n",
       "4          15.0      82.0      71.0     241.0  \n",
       "...         ...       ...       ...       ...  \n",
       "32868      51.0      36.0      33.0      24.0  \n",
       "32869       1.0       9.0       3.0       4.0  \n",
       "32870       7.0       6.0       4.0       3.0  \n",
       "32871       6.0      15.0       7.0       4.0  \n",
       "32872       8.0       6.0       4.0       4.0  \n",
       "\n",
       "[32873 rows x 11 columns]"
      ]
     },
     "execution_count": 146,
     "metadata": {},
     "output_type": "execute_result"
    }
   ],
   "source": [
    "bus_passengers_20230605_merge2"
   ]
  },
  {
   "cell_type": "code",
   "execution_count": 147,
   "metadata": {},
   "outputs": [],
   "source": [
    "bus_passengers_20230605_merge3 = pd.merge(left=bus_passengers_20230605_merge2,right=station_info,how=\"inner\",left_on=\"출발_정류장_ID\",right_on=\"NODE_ID\")"
   ]
  },
  {
   "cell_type": "code",
   "execution_count": 148,
   "metadata": {},
   "outputs": [],
   "source": [
    "bus_passengers_20230605_merge3=bus_passengers_20230605_merge3[['기준_날짜', '노선_ID', '노선명_x',\"정류소명\", '출발_정류장_ID', '도착_정류장_ID', '정류장_순서', '배차대수',\n",
    "       '재차인원합_6시', '재차인원합_7시', '재차인원합_8시', '재차인원합_9시','X좌표', 'Y좌표']]"
   ]
  },
  {
   "cell_type": "code",
   "execution_count": 149,
   "metadata": {},
   "outputs": [
    {
     "name": "stdout",
     "output_type": "stream",
     "text": [
      "<class 'pandas.core.frame.DataFrame'>\n",
      "Int64Index: 32865 entries, 0 to 32864\n",
      "Data columns (total 14 columns):\n",
      " #   Column     Non-Null Count  Dtype  \n",
      "---  ------     --------------  -----  \n",
      " 0   기준_날짜      32865 non-null  int64  \n",
      " 1   노선_ID      32865 non-null  int64  \n",
      " 2   노선명_x      32865 non-null  object \n",
      " 3   정류소명       32865 non-null  object \n",
      " 4   출발_정류장_ID  32865 non-null  int64  \n",
      " 5   도착_정류장_ID  32865 non-null  int64  \n",
      " 6   정류장_순서     32865 non-null  int64  \n",
      " 7   배차대수       32865 non-null  float64\n",
      " 8   재차인원합_6시   32865 non-null  float64\n",
      " 9   재차인원합_7시   32865 non-null  float64\n",
      " 10  재차인원합_8시   32865 non-null  float64\n",
      " 11  재차인원합_9시   32865 non-null  float64\n",
      " 12  X좌표        32865 non-null  float64\n",
      " 13  Y좌표        32865 non-null  float64\n",
      "dtypes: float64(7), int64(5), object(2)\n",
      "memory usage: 3.8+ MB\n"
     ]
    }
   ],
   "source": [
    "bus_passengers_20230605_merge3.info()"
   ]
  },
  {
   "cell_type": "code",
   "execution_count": 95,
   "metadata": {},
   "outputs": [
    {
     "data": {
      "text/plain": [
       "기준_날짜            1\n",
       "노선_ID          494\n",
       "노선명_x          494\n",
       "출발_정류장_ID    11260\n",
       "도착_정류장_ID    11242\n",
       "정류장_순서         159\n",
       "배차대수            27\n",
       "재차인원합_6시       395\n",
       "재차인원합_7시       451\n",
       "재차인원합_8시       373\n",
       "재차인원합_9시       313\n",
       "ROUTE_ID       565\n",
       "노선명_y          564\n",
       "순번             172\n",
       "NODE_ID      11260\n",
       "ARS_ID       11237\n",
       "정류소명          7293\n",
       "X좌표          11257\n",
       "Y좌표          11255\n",
       "dtype: int64"
      ]
     },
     "execution_count": 95,
     "metadata": {},
     "output_type": "execute_result"
    }
   ],
   "source": [
    "bus_passengers_20230605_merge3.nunique()"
   ]
  },
  {
   "cell_type": "code",
   "execution_count": 150,
   "metadata": {},
   "outputs": [
    {
     "data": {
      "text/plain": [
       "기준_날짜            1\n",
       "노선_ID          494\n",
       "노선명            494\n",
       "출발_정류장_ID    11262\n",
       "도착_정류장_ID    11244\n",
       "정류장_순서         159\n",
       "배차대수            27\n",
       "재차인원합_6시       395\n",
       "재차인원합_7시       451\n",
       "재차인원합_8시       373\n",
       "재차인원합_9시       313\n",
       "dtype: int64"
      ]
     },
     "execution_count": 150,
     "metadata": {},
     "output_type": "execute_result"
    }
   ],
   "source": [
    "bus_passengers_20230605_merge2.nunique()"
   ]
  },
  {
   "cell_type": "code",
   "execution_count": 153,
   "metadata": {},
   "outputs": [
    {
     "data": {
      "text/plain": [
       "Index(['기준_날짜', '노선_ID', '노선명_x', '정류소명', '출발_정류장_ID', '도착_정류장_ID', '정류장_순서',\n",
       "       '배차대수', '재차인원합_6시', '재차인원합_7시', '재차인원합_8시', '재차인원합_9시', 'X좌표', 'Y좌표'],\n",
       "      dtype='object')"
      ]
     },
     "execution_count": 153,
     "metadata": {},
     "output_type": "execute_result"
    }
   ],
   "source": [
    "bus_passengers_20230605_merge3.columns"
   ]
  },
  {
   "cell_type": "code",
   "execution_count": 169,
   "metadata": {},
   "outputs": [],
   "source": [
    "bus_passengers_20230605_merge3=bus_passengers_20230605_merge3.sort_values(by=[\"노선_ID\",\"정류장_순서\"])"
   ]
  },
  {
   "cell_type": "code",
   "execution_count": 172,
   "metadata": {},
   "outputs": [],
   "source": [
    "# 버스별 재차인원으로 값 변경\n",
    "bus_passengers_20230605_merge3['재차인원_6시'] = round(bus_passengers_20230605_merge3['재차인원합_6시']/bus_passengers_20230605_merge3['배차대수'],1)\n",
    "bus_passengers_20230605_merge3['재차인원_7시'] = round(bus_passengers_20230605_merge3['재차인원합_7시']/bus_passengers_20230605_merge3['배차대수'],1)\n",
    "bus_passengers_20230605_merge3['재차인원_8시'] = round(bus_passengers_20230605_merge3['재차인원합_8시']/bus_passengers_20230605_merge3['배차대수'],1)\n",
    "bus_passengers_20230605_merge3['재차인원_9시'] = round(bus_passengers_20230605_merge3['재차인원합_9시']/bus_passengers_20230605_merge3['배차대수'],1)"
   ]
  },
  {
   "cell_type": "code",
   "execution_count": 176,
   "metadata": {},
   "outputs": [
    {
     "data": {
      "text/plain": [
       "Index(['기준_날짜', '노선_ID', '노선명_x', '정류소명', '출발_정류장_ID', '도착_정류장_ID', '정류장_순서',\n",
       "       '배차대수', '재차인원합_6시', '재차인원합_7시', '재차인원합_8시', '재차인원합_9시', 'X좌표', 'Y좌표',\n",
       "       '재차인원_6시', '재차인원_7시', '재차인원_8시', '재차인원_9시'],\n",
       "      dtype='object')"
      ]
     },
     "execution_count": 176,
     "metadata": {},
     "output_type": "execute_result"
    }
   ],
   "source": [
    "bus_passengers_20230605_merge3.columns"
   ]
  },
  {
   "cell_type": "code",
   "execution_count": 177,
   "metadata": {},
   "outputs": [],
   "source": [
    "bus_passengers_20230605_final=bus_passengers_20230605_merge3[['기준_날짜', '노선_ID', '노선명_x', '정류소명', '출발_정류장_ID', '도착_정류장_ID', '정류장_순서',\n",
    "       '배차대수', '재차인원_6시', '재차인원_7시', '재차인원_8시', '재차인원_9시', 'X좌표', 'Y좌표',\n",
    "       ]]"
   ]
  },
  {
   "cell_type": "code",
   "execution_count": 178,
   "metadata": {},
   "outputs": [],
   "source": [
    "import pickle\n",
    "with open(\"bus_passengers_20230605_final\", \"wb\") as f:\n",
    "        pickle.dump(bus_passengers_20230605_final, f)"
   ]
  },
  {
   "cell_type": "code",
   "execution_count": null,
   "metadata": {},
   "outputs": [],
   "source": []
  }
 ],
 "metadata": {
  "kernelspec": {
   "display_name": "base",
   "language": "python",
   "name": "python3"
  },
  "language_info": {
   "codemirror_mode": {
    "name": "ipython",
    "version": 3
   },
   "file_extension": ".py",
   "mimetype": "text/x-python",
   "name": "python",
   "nbconvert_exporter": "python",
   "pygments_lexer": "ipython3",
   "version": "3.9.13"
  },
  "orig_nbformat": 4,
  "vscode": {
   "interpreter": {
    "hash": "e35aa464e4f518e3bd80b827b0a7a82608bf016d4c837622545242b48b9bfee6"
   }
  }
 },
 "nbformat": 4,
 "nbformat_minor": 2
}
