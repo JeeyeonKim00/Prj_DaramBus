{
 "cells": [
  {
   "attachments": {},
   "cell_type": "markdown",
   "metadata": {},
   "source": [
    "### 승하차인원과 인프라 데이터의 상관관계 살펴보기"
   ]
  },
  {
   "cell_type": "code",
   "execution_count": null,
   "metadata": {},
   "outputs": [],
   "source": [
    "from utils import *\n",
    "df = call_dataframe(\"\")\n",
    "\n",
    "# 인덱스는 버스 정류장"
   ]
  },
  {
   "cell_type": "code",
   "execution_count": null,
   "metadata": {},
   "outputs": [],
   "source": [
    "# pairplot\n",
    "import matplotlib.pyplot as plt\n",
    "import seaborn as sns\n",
    "import pandas as pd\n",
    "import numpy as np\n",
    "from sklearn.cluster import KMeans\n",
    "%matplotlib inline\n",
    "\n",
    "plt.rcParams['font.family'] = 'AppleGothic'\n",
    "\n",
    "fig = sns.pairplot(df, hue=, palette='husl',markers=['o','s'],corner=True)\n",
    "\n",
    "plt.show()"
   ]
  },
  {
   "cell_type": "code",
   "execution_count": null,
   "metadata": {},
   "outputs": [],
   "source": [
    "# 히트맵 그리기\n",
    "plt.figure(figsize=(15,8))\n",
    "sns.heatmap(data=df.corr(),annot=True,\n",
    "            fmt='.2f',linewidths=5,cmap='YIGnBu')\n",
    "plt.title('',fontsize=15)\n",
    "plt.show()"
   ]
  },
  {
   "attachments": {},
   "cell_type": "markdown",
   "metadata": {},
   "source": [
    "## PCA"
   ]
  },
  {
   "cell_type": "code",
   "execution_count": null,
   "metadata": {},
   "outputs": [],
   "source": [
    "# 불필요한 경고 출력 방지\n",
    "import warnings\n",
    "\n",
    "warnings.filterwarnings(\"ignore\")"
   ]
  },
  {
   "cell_type": "code",
   "execution_count": null,
   "metadata": {},
   "outputs": [],
   "source": [
    "# 시각화로 확인하기\n",
    "# 꽃받침 시각화\n",
    "sns.scatterplot(\n",
    "    x=sepal_columns[0],\n",
    "    y=sepal_columns[1],\n",
    "    hue='target',\n",
    "    data=df,\n",
    "    palette=\"muted\"\n",
    ")\n",
    "\n",
    "plt.title(\"Sepal\")\n",
    "plt.show()"
   ]
  },
  {
   "cell_type": "code",
   "execution_count": null,
   "metadata": {},
   "outputs": [],
   "source": [
    "# For 반복문으로 고윳값과 기여율 확인하기\n",
    "from sklearn.decomposition import PCA\n",
    "from sklearn.preprocessing import StandardScaler\n",
    "from sklearn.preprocessing import MinMaxScaler\n",
    "from sklearn.preprocessing import RobustScaler\n",
    "\n",
    "df = pd.DataFrame()\n",
    "\n",
    "standard_scaler = StandardScaler()\n",
    "standard_df = standard_scaler.fit_transform(df)\n",
    "\n",
    "minmax_scaler = MinMaxScaler() \n",
    "minmax_df = minmax_scaler.fit_transform(df) \n",
    "\n",
    "robust_scaler = RobustScaler()\n",
    "robust_df = robust_scaler.fit_transform(df)\n",
    "\n"
   ]
  },
  {
   "attachments": {},
   "cell_type": "markdown",
   "metadata": {},
   "source": [
    "### 적합한 n_components의 개수 찾기"
   ]
  },
  {
   "cell_type": "code",
   "execution_count": null,
   "metadata": {},
   "outputs": [],
   "source": [
    "# 처음에는 DF의 피처 개수만큼 넣어서 기여율을 확인하다. 그 후의 적합한 component의 개수를 생각\n",
    "pca = PCA(n_components = )\n",
    "pca_array = pca.fit_transform(df)\n",
    "pca_df = pd.DataFrame(pca_array,columns=[f'pca{num+1}' for num in range(df.shape[1])])\n",
    "pca_df.head()"
   ]
  },
  {
   "cell_type": "code",
   "execution_count": null,
   "metadata": {},
   "outputs": [],
   "source": [
    "# 주성분의 설명력과 기여율 구하기\n",
    "result = pd.DataFrame({'설명가능한 분산 비율(고윳값)':pca.explained_variance_,\n",
    "                       '기여율':pca.explained_variance_ratio_},\n",
    "                      index=np.array([f'pca{num+1}' for num in range(df.shape[1])]))\n",
    "result['누적기여율'] = result['기여율'].cumsum()\n",
    "result"
   ]
  },
  {
   "cell_type": "code",
   "execution_count": null,
   "metadata": {},
   "outputs": [],
   "source": [
    "# scree plot\n",
    "\n",
    "def scree_plot(pca):\n",
    "    num_components = len(pca.explained_variance_ratio_)\n",
    "    ind = np.arange(num_components)\n",
    "    vals = pca.explained_variance_ratio_ \n",
    "    \n",
    "    ax = plt.subplot()\n",
    "    cumvals = np.cumsum(vals)\n",
    "    ax.bar(ind, vals, color = ['#00da75', '#f1c40f',  '#ff6f15', '#3498db']) # Bar plot\n",
    "    ax.plot(ind, cumvals, color = '#c0392b') # Line plot \n",
    "    \n",
    "    for i in range(num_components): #라벨링(바 위에 텍스트(annotation) 쓰기)\n",
    "        ax.annotate(r\"%s\" % ((str(vals[i]*100)[:3])), (ind[i], vals[i]), va = \"bottom\", ha = \"center\", fontsize = 13)\n",
    "     \n",
    "    ax.set_xlabel(\"PC\")\n",
    "    ax.set_ylabel(\"Variance\")\n",
    "    plt.title('Scree plot')\n",
    "    \n",
    "scree_plot(pca)\n",
    "\n",
    "# 누적이 0.8이상인 부분까지"
   ]
  },
  {
   "cell_type": "code",
   "execution_count": null,
   "metadata": {},
   "outputs": [],
   "source": [
    "# scree plot\n",
    "PC_values = np.arange(pca.n_components_) + 1\n",
    "plt.plot(PC_values, pca.explained_variance_ratio_, 'o-', linewidth=2, color='blue')\n",
    "plt.title('Scree Plot')\n",
    "plt.xlabel('Principal Component')\n",
    "plt.ylabel('Variance Explained')\n",
    "plt.show()"
   ]
  },
  {
   "attachments": {},
   "cell_type": "markdown",
   "metadata": {},
   "source": [
    "### PCA 진행"
   ]
  },
  {
   "cell_type": "code",
   "execution_count": null,
   "metadata": {},
   "outputs": [],
   "source": [
    "# 4차원 데이터를 2차원으로 축소\n",
    "# n_components : 축소할 차원. 주성분 개수. 분산이 가장 큰 벡터의 개수\n",
    "from pca import pca # biplot을 그리기 위한 별도 라이브러리\n",
    "\n",
    "pca_2 = PCA(n_components=2)\n",
    "pca_array = pca_2.fit_transform(df)\n",
    "pca_2_df = pd.DataFrame(pca_array,\n",
    "                      columns=['pca1','pca2'])\n",
    "pca_2_df.head()\n",
    "\n",
    "model = PCA(n_components=2)\n",
    "results = model.fit_transform(df)\n",
    "fig, ax = model.biplot(n_feat=2, legend =False)"
   ]
  },
  {
   "cell_type": "code",
   "execution_count": null,
   "metadata": {},
   "outputs": [],
   "source": [
    "# 1번쨰 주성분을 오름차순으로 정렬해서 어떤 나라가 1번째 주성분 벡터값이 가장 높은지 살펴보기\n",
    "# -는 벡터의 방향! 방향 상관없이 크기가 크면 된다\n",
    "pca_1 = pca_2_df[['pca1']]\n",
    "pca_1 = pca_1.sort_values(by='pca1', ascending=False)\n",
    "pca_1 = pca_1.reset_index()\n",
    "pca_1.index = pca_1.index+1\n",
    "pca_1.index.name = \"Ranking\"\n",
    "pca_1 = pca_1.rename(columns={'index':\"station_name\"})\n",
    "pca_1"
   ]
  },
  {
   "cell_type": "code",
   "execution_count": null,
   "metadata": {},
   "outputs": [],
   "source": [
    "# 2차원 시각화\n",
    "sns.scatterplot(\n",
    "    x=\"pac1\",\n",
    "    y=\"pca2\",\n",
    "    palette='muted',\n",
    "    data= pca_2_df\n",
    ")\n",
    "\n",
    "plt.title(\"PCA n_component = 2\")\n",
    "plt.show()"
   ]
  },
  {
   "cell_type": "code",
   "execution_count": null,
   "metadata": {},
   "outputs": [],
   "source": [
    "# 4차원에서 3차원으로 차원축소 해보기\n",
    "\n",
    "pca_3 = PCA(n_components=3)\n",
    "\n",
    "infra_pca_3 = pca_3.fit_transform(df.drop(\"target\",axis=1))\n",
    "infra_pca_3.shape\n",
    "\n",
    "# PCA로 변환된 데이터를 DataFrame으로 만들기\n",
    "\n",
    "pca_columns = [\"Component 1\", \"Component 2\", \"Component 3\"]\n",
    "infra_pca_df = pd.DataFrame(\n",
    "    infra_pca_3,\n",
    "    columns=pca_columns\n",
    ")"
   ]
  },
  {
   "cell_type": "code",
   "execution_count": null,
   "metadata": {},
   "outputs": [],
   "source": [
    "# 3차원 시각화\n",
    "\n",
    "from mpl_toolkits.mplot3d import Axes3D\n",
    "\n",
    "fig = plt.figure(figsize=(8, 6))\n",
    "ax = fig.add_subplot(projection='3d')\n",
    "\n",
    "ax.scatter(infra_pca_df[\"Component 1\"], # x축 데이터\n",
    "           infra_pca_df[\"Component 2\"], # y축 데이터\n",
    "           infra_pca_df[\"Component 3\"], # z축 데이터\n",
    "        #    c=infra_pca_df['target'], # 3d scatter의 색깔 기준\n",
    "           cmap=plt.cm.Set1, edgecolor='k', s=40)\n",
    "ax.set_title(\"Iris 3D\")\n",
    "ax.set_xlabel(\"x\")\n",
    "ax.w_xaxis.set_ticklabels([]) # x축 tick 사용하지 않기\n",
    "ax.set_ylabel(\"y\")\n",
    "ax.w_yaxis.set_ticklabels([])\n",
    "ax.set_zlabel(\"z\")\n",
    "ax.w_zaxis.set_ticklabels([])\n",
    "\n",
    "plt.show()\n",
    "# 4차원부터 시각화 불가능"
   ]
  },
  {
   "cell_type": "code",
   "execution_count": null,
   "metadata": {},
   "outputs": [],
   "source": [
    "PC_values = np.arange(pca_3.n_components_) + 1\n",
    "plt.plot(PC_values, pca_3.explained_variance_ratio_, 'o-', linewidth=2, color='blue')\n",
    "plt.title('Scree Plot')\n",
    "plt.xlabel('Principal Component')\n",
    "plt.ylabel('Variance Explained')\n",
    "plt.show()"
   ]
  },
  {
   "cell_type": "code",
   "execution_count": null,
   "metadata": {},
   "outputs": [],
   "source": [
    "print(pca.explained_variance_ratio_)"
   ]
  },
  {
   "cell_type": "code",
   "execution_count": null,
   "metadata": {},
   "outputs": [],
   "source": [
    "# 기존의 것과 pca를 한 것의 성능 차이 확인 할 것"
   ]
  },
  {
   "attachments": {},
   "cell_type": "markdown",
   "metadata": {},
   "source": [
    "### 클러스터링"
   ]
  }
 ],
 "metadata": {
  "kernelspec": {
   "display_name": "base",
   "language": "python",
   "name": "python3"
  },
  "language_info": {
   "codemirror_mode": {
    "name": "ipython",
    "version": 3
   },
   "file_extension": ".py",
   "mimetype": "text/x-python",
   "name": "python",
   "nbconvert_exporter": "python",
   "pygments_lexer": "ipython3",
   "version": "3.9.13"
  },
  "orig_nbformat": 4,
  "vscode": {
   "interpreter": {
    "hash": "e35aa464e4f518e3bd80b827b0a7a82608bf016d4c837622545242b48b9bfee6"
   }
  }
 },
 "nbformat": 4,
 "nbformat_minor": 2
}
