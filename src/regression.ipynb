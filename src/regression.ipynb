{
 "cells": [
  {
   "cell_type": "code",
   "execution_count": null,
   "metadata": {},
   "outputs": [],
   "source": [
    "import sys\n",
    "sys.path.append('./Modeling')\n",
    "sys.path.append('./Data')"
   ]
  },
  {
   "cell_type": "code",
   "execution_count": null,
   "metadata": {},
   "outputs": [],
   "source": [
    "# !pip install pyspark"
   ]
  },
  {
   "cell_type": "code",
   "execution_count": null,
   "metadata": {},
   "outputs": [],
   "source": [
    "from regression import get_parquet_data, log_transformation, encoding_data, split_data, randomforest_grid_search, save_model, load_model, get_weather_data"
   ]
  },
  {
   "cell_type": "code",
   "execution_count": null,
   "metadata": {},
   "outputs": [],
   "source": [
    "# 전처리 완료 데이터 불러오기\n",
    "file_path = './Data/csv'\n",
    "\n",
    "ride_df, alight_df = get_parquet_data(file_path)"
   ]
  },
  {
   "cell_type": "code",
   "execution_count": null,
   "metadata": {},
   "outputs": [],
   "source": [
    "# 데이터프레임 형태 확인\n",
    "ride_df.info()\n",
    "alight_df.info()"
   ]
  },
  {
   "cell_type": "markdown",
   "metadata": {},
   "source": [
    "# 왜도, 첨도 확인"
   ]
  },
  {
   "cell_type": "code",
   "execution_count": null,
   "metadata": {},
   "outputs": [],
   "source": [
    "import matplotlib.pyplot as plt\n",
    "import seaborn as sns"
   ]
  },
  {
   "cell_type": "code",
   "execution_count": null,
   "metadata": {},
   "outputs": [],
   "source": [
    "plt.figure(figsize=(10, 10))\n",
    "sns.distplot(ride_df['RIDE'])\n",
    "\n",
    "plt.show()"
   ]
  },
  {
   "cell_type": "code",
   "execution_count": null,
   "metadata": {},
   "outputs": [],
   "source": [
    "plt.figure(figsize=(10, 10))\n",
    "sns.distplot(alight_df['ALIGHT'])\n",
    "\n",
    "plt.show()"
   ]
  },
  {
   "cell_type": "markdown",
   "metadata": {},
   "source": [
    "# 로그 변환, 스케일링, 인코딩"
   ]
  },
  {
   "cell_type": "code",
   "execution_count": null,
   "metadata": {},
   "outputs": [],
   "source": [
    "# 로그 변환\n",
    "ride_df = log_transformation(ride_df, RIDE)\n",
    "alight_df = log_transformation(alight_df, ALIGHT)"
   ]
  },
  {
   "cell_type": "code",
   "execution_count": null,
   "metadata": {},
   "outputs": [],
   "source": [
    "print(\"Skewness: {:.3f}\".format(ride_df['RIDE_log'].skew()))\n",
    "print(\"Kurtosis: {:.3f}\".format(ride_df['RIDE_log'].kurt()))\n",
    "\n",
    "print(\"Skewness: {:.3f}\".format(alight_df['ALIGHT_log'].skew()))\n",
    "print(\"Kurtosis: {:.3f}\".format(alight_df['ALIGHT_log'].kurt()))"
   ]
  },
  {
   "cell_type": "code",
   "execution_count": null,
   "metadata": {},
   "outputs": [],
   "source": [
    "# 스케일러, 인코딩 적용\n",
    "ride_df_encoding = encoding_data(ride_df)\n",
    "alight_df_encoding = encoding_data(alight_df)"
   ]
  },
  {
   "cell_type": "markdown",
   "metadata": {},
   "source": [
    "# 훈련 데이터, 학습 데이터 분리"
   ]
  },
  {
   "cell_type": "code",
   "execution_count": null,
   "metadata": {},
   "outputs": [],
   "source": [
    "ride_X_train, ride_y_train, ride_X_test, ride_y_test = split_data(ride_df_encoding, 'RIDE_log')\n",
    "alight_X_train, alight_y_train, alight_X_test, alight_y_test = split_data(alight_df_encoding, 'alight_log')"
   ]
  },
  {
   "cell_type": "markdown",
   "metadata": {},
   "source": [
    "# 최적 파라미터 구하기"
   ]
  },
  {
   "cell_type": "code",
   "execution_count": null,
   "metadata": {},
   "outputs": [],
   "source": [
    "rf_best_model_ride = randomforest_grid_search(ride_X_train, ride_y_train)\n",
    "rf_best_model_alight = randomforest_grid_search(alight_X_train, alight_y_train)"
   ]
  },
  {
   "cell_type": "markdown",
   "metadata": {},
   "source": [
    "# 모델 저장"
   ]
  },
  {
   "cell_type": "code",
   "execution_count": null,
   "metadata": {},
   "outputs": [],
   "source": [
    "save_model(rf_best_model_ride)\n",
    "save_model(rf_best_model_alight)"
   ]
  },
  {
   "cell_type": "markdown",
   "metadata": {},
   "source": [
    "# 승객 수 예측"
   ]
  },
  {
   "cell_type": "code",
   "execution_count": null,
   "metadata": {},
   "outputs": [],
   "source": [
    "# 모델 불러오기\n",
    "ride_loaded_model = load_model(rf_best_model_ride)\n",
    "alight_loaded_model = load_model(rf_best_model_alight)"
   ]
  },
  {
   "cell_type": "code",
   "execution_count": null,
   "metadata": {},
   "outputs": [],
   "source": [
    "# 기후 데이터 불러오기\n",
    "pred_weather_df = get_weather_data(path, weather.csv)\n",
    "\n",
    "# 기후 데이터 스케일러, 인코딩 적용\n",
    "pred_weather_df = encoding_data(pred_weather_df)"
   ]
  },
  {
   "cell_type": "markdown",
   "metadata": {},
   "source": [
    "# 기후 데이터를 바탕으로 승객 수 예측"
   ]
  },
  {
   "cell_type": "code",
   "execution_count": null,
   "metadata": {},
   "outputs": [],
   "source": [
    "ride_predictions = ride_loaded_model.predict(pred_weather_df)\n",
    "alight_predictions = alight_loaded_model.predict(pred_weather_df)"
   ]
  },
  {
   "cell_type": "code",
   "execution_count": null,
   "metadata": {},
   "outputs": [],
   "source": [
    "# 로그 역변환\n",
    "ride_reversed_values = np.exp(ride_predictions)\n",
    "alight_reversed_values = np.exp(alight_predictions)\n",
    "\n",
    "print(\"역변환된 값 : \", ride_reversed_values)\n",
    "print(\"역변환된 값 : \", alight_reversed_values)"
   ]
  }
 ],
 "metadata": {
  "kernelspec": {
   "display_name": "base",
   "language": "python",
   "name": "python3"
  },
  "language_info": {
   "codemirror_mode": {
    "name": "ipython",
    "version": 3
   },
   "file_extension": ".py",
   "mimetype": "text/x-python",
   "name": "python",
   "nbconvert_exporter": "python",
   "pygments_lexer": "ipython3",
   "version": "3.9.13"
  },
  "orig_nbformat": 4
 },
 "nbformat": 4,
 "nbformat_minor": 2
}
