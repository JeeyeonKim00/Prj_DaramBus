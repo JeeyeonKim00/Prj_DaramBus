{
 "cells": [
  {
   "cell_type": "markdown",
   "metadata": {},
   "source": [
    "## 기준1. 좌표로 거리 구하기       \n",
    "st_end_daram_df"
   ]
  },
  {
   "cell_type": "markdown",
   "metadata": {},
   "source": [
    "다람쥐 버스 정류장의 시작점과 종점의 직선거리를 구하여, 기존 다람쥐 버스 노선의 운행 범위를 알아보려고 함."
   ]
  },
  {
   "cell_type": "code",
   "execution_count": 3,
   "metadata": {},
   "outputs": [],
   "source": [
    "import sys \n",
    "import pandas as pd\n",
    "\n",
    "sys.path.append('./EDA')\n",
    "sys.path.append('./Modeling')\n",
    "sys.path.append('./Data/csv')\n",
    "\n",
    "from EDA_STEP_1 import *\n",
    "from visualization import *\n",
    "from clustering import *"
   ]
  },
  {
   "cell_type": "code",
   "execution_count": 4,
   "metadata": {},
   "outputs": [],
   "source": [
    "st_end_daram_df=pd.read_csv('./Data/csv/local_daram_14.csv', encoding='UTF-8')"
   ]
  },
  {
   "cell_type": "code",
   "execution_count": 5,
   "metadata": {},
   "outputs": [
    {
     "data": {
      "text/plain": [
       "[('111000128', '111000291'),\n",
       " ('113000113', '118000048'),\n",
       " ('120000156', '119000024'),\n",
       " ('120000109', '120000018'),\n",
       " ('105000127', '105000072'),\n",
       " ('122000305', '122000302'),\n",
       " ('123000209', '123000043')]"
      ]
     },
     "execution_count": 5,
     "metadata": {},
     "output_type": "execute_result"
    }
   ],
   "source": [
    "start_station = ['111000128','113000113','120000156','120000109','105000127','122000305','123000209']\n",
    "end_station =   ['111000291','118000048','119000024','120000018','105000072','122000302','123000043']\n",
    "st_end_node_list = []\n",
    "for st_end_node in zip(start_station,end_station):\n",
    "    st_end_node_list.append(st_end_node)\n",
    "st_end_node_list"
   ]
  },
  {
   "cell_type": "code",
   "execution_count": null,
   "metadata": {},
   "outputs": [
    {
     "name": "stdout",
     "output_type": "stream",
     "text": [
      "8771\n",
      "8761\n",
      "8551\n",
      "8552\n",
      "8221\n",
      "8441\n",
      "8331\n"
     ]
    },
    {
     "name": "stderr",
     "output_type": "stream",
     "text": [
      "C:\\Users\\user\\AppData\\Local\\Temp\\ipykernel_24356\\2549212882.py:11: FutureWarning: The frame.append method is deprecated and will be removed from pandas in a future version. Use pandas.concat instead.\n",
      "  node_distance_df=node_distance_df.append(new_data, ignore_index=True)\n",
      "C:\\Users\\user\\AppData\\Local\\Temp\\ipykernel_24356\\2549212882.py:11: FutureWarning: The frame.append method is deprecated and will be removed from pandas in a future version. Use pandas.concat instead.\n",
      "  node_distance_df=node_distance_df.append(new_data, ignore_index=True)\n",
      "C:\\Users\\user\\AppData\\Local\\Temp\\ipykernel_24356\\2549212882.py:11: FutureWarning: The frame.append method is deprecated and will be removed from pandas in a future version. Use pandas.concat instead.\n",
      "  node_distance_df=node_distance_df.append(new_data, ignore_index=True)\n",
      "C:\\Users\\user\\AppData\\Local\\Temp\\ipykernel_24356\\2549212882.py:11: FutureWarning: The frame.append method is deprecated and will be removed from pandas in a future version. Use pandas.concat instead.\n",
      "  node_distance_df=node_distance_df.append(new_data, ignore_index=True)\n",
      "C:\\Users\\user\\AppData\\Local\\Temp\\ipykernel_24356\\2549212882.py:11: FutureWarning: The frame.append method is deprecated and will be removed from pandas in a future version. Use pandas.concat instead.\n",
      "  node_distance_df=node_distance_df.append(new_data, ignore_index=True)\n",
      "C:\\Users\\user\\AppData\\Local\\Temp\\ipykernel_24356\\2549212882.py:11: FutureWarning: The frame.append method is deprecated and will be removed from pandas in a future version. Use pandas.concat instead.\n",
      "  node_distance_df=node_distance_df.append(new_data, ignore_index=True)\n",
      "C:\\Users\\user\\AppData\\Local\\Temp\\ipykernel_24356\\2549212882.py:11: FutureWarning: The frame.append method is deprecated and will be removed from pandas in a future version. Use pandas.concat instead.\n",
      "  node_distance_df=node_distance_df.append(new_data, ignore_index=True)\n"
     ]
    }
   ],
   "source": [
    "node_distance_df = pd.DataFrame(columns=['BUS_NUM','Radius'])\n",
    "for bus_radius in st_end_node_list:\n",
    "    lon1 = st_end_daram_df['X좌표'][st_end_daram_df['NODE_ID']==int(bus_radius[0])].iloc[0]\n",
    "    lat1 = st_end_daram_df['Y좌표'][st_end_daram_df['NODE_ID']==int(bus_radius[0])].iloc[0]\n",
    "    lon2 = st_end_daram_df['X좌표'][st_end_daram_df['NODE_ID']==int(bus_radius[1])].iloc[0]\n",
    "    lat2 = st_end_daram_df['Y좌표'][st_end_daram_df['NODE_ID']==int(bus_radius[1])].iloc[0]\n",
    "    bus_num = st_end_daram_df['노선번호'][st_end_daram_df['NODE_ID']==int(bus_radius[0])].iloc[0]\n",
    "    radius = haversine_distance(lat1, lon1, lat2, lon2)\n",
    "    print((bus_num))\n",
    "    new_data = {'BUS_NUM':int(bus_num),'Radius':radius}\n",
    "    node_distance_df=node_distance_df.append(new_data, ignore_index=True)\n",
    "node_distance_df['BUS_NUM']=node_distance_df['BUS_NUM'].astype(int)"
   ]
  },
  {
   "cell_type": "code",
   "execution_count": null,
   "metadata": {},
   "outputs": [
    {
     "data": {
      "text/html": [
       "<div>\n",
       "<style scoped>\n",
       "    .dataframe tbody tr th:only-of-type {\n",
       "        vertical-align: middle;\n",
       "    }\n",
       "\n",
       "    .dataframe tbody tr th {\n",
       "        vertical-align: top;\n",
       "    }\n",
       "\n",
       "    .dataframe thead th {\n",
       "        text-align: right;\n",
       "    }\n",
       "</style>\n",
       "<table border=\"1\" class=\"dataframe\">\n",
       "  <thead>\n",
       "    <tr style=\"text-align: right;\">\n",
       "      <th></th>\n",
       "      <th>BUS_NUM</th>\n",
       "      <th>Radius</th>\n",
       "    </tr>\n",
       "  </thead>\n",
       "  <tbody>\n",
       "    <tr>\n",
       "      <th>0</th>\n",
       "      <td>8771</td>\n",
       "      <td>2.253930</td>\n",
       "    </tr>\n",
       "    <tr>\n",
       "      <th>1</th>\n",
       "      <td>8761</td>\n",
       "      <td>3.270517</td>\n",
       "    </tr>\n",
       "    <tr>\n",
       "      <th>2</th>\n",
       "      <td>8551</td>\n",
       "      <td>3.377080</td>\n",
       "    </tr>\n",
       "    <tr>\n",
       "      <th>3</th>\n",
       "      <td>8552</td>\n",
       "      <td>2.189842</td>\n",
       "    </tr>\n",
       "    <tr>\n",
       "      <th>4</th>\n",
       "      <td>8221</td>\n",
       "      <td>2.017193</td>\n",
       "    </tr>\n",
       "    <tr>\n",
       "      <th>5</th>\n",
       "      <td>8441</td>\n",
       "      <td>2.383591</td>\n",
       "    </tr>\n",
       "    <tr>\n",
       "      <th>6</th>\n",
       "      <td>8331</td>\n",
       "      <td>4.338118</td>\n",
       "    </tr>\n",
       "  </tbody>\n",
       "</table>\n",
       "</div>"
      ],
      "text/plain": [
       "   BUS_NUM    Radius\n",
       "0     8771  2.253930\n",
       "1     8761  3.270517\n",
       "2     8551  3.377080\n",
       "3     8552  2.189842\n",
       "4     8221  2.017193\n",
       "5     8441  2.383591\n",
       "6     8331  4.338118"
      ]
     },
     "execution_count": 15,
     "metadata": {},
     "output_type": "execute_result"
    }
   ],
   "source": [
    "node_distance_df"
   ]
  },
  {
   "cell_type": "markdown",
   "metadata": {},
   "source": [
    "기준 1 : 모든 다람쥐 버스 노선의 시작점과 종점의 직선거리는 2km이상 4.5km 이내이다."
   ]
  },
  {
   "cell_type": "markdown",
   "metadata": {},
   "source": [
    "## 기준 1에 따라 후보군 제거하기"
   ]
  },
  {
   "cell_type": "markdown",
   "metadata": {},
   "source": [
    "### 1-1. GMM 클러스터된 다람쥐 데이터 가져오기  \n",
    "GMM 군집결과 총 11개의 클래스."
   ]
  },
  {
   "cell_type": "code",
   "execution_count": null,
   "metadata": {},
   "outputs": [],
   "source": [
    "# gmm 다람쥐 csv 가져오기\n",
    "gmm_daram_df = pd.read_csv('gmm_daram.csv', encoding='UTF-8')\n",
    "gmm_daram_df=gmm_daram_df[['X좌표','Y좌표','NODE_ID', 'gmm_cluster']]\n",
    "gmm_daram_df\n",
    "\n",
    "# 다람쥐 95개 정류장 csv 가져오기\n",
    "daram_df = pd.read_csv('다람쥐95개정류장.csv', encoding='cp949')"
   ]
  },
  {
   "cell_type": "markdown",
   "metadata": {},
   "source": [
    "### 1-2.유사도로 뽑은 버스 데이터 가져오기"
   ]
  },
  {
   "cell_type": "code",
   "execution_count": null,
   "metadata": {},
   "outputs": [],
   "source": [
    "cosine_daram_df=pd.read_csv('cosine_similarity_daram.csv', encoding='utf-8')"
   ]
  },
  {
   "cell_type": "markdown",
   "metadata": {},
   "source": [
    "### 1-3. 95개 다람쥐 버스 정류장에 gmm 군집결과를 labeling "
   ]
  },
  {
   "cell_type": "code",
   "execution_count": null,
   "metadata": {},
   "outputs": [],
   "source": [
    "gmm_daram_result_df = pd.merge(daram_df,gmm_daram_df, left_on='NODE_ID' ,right_on='NODE_ID',how='left')"
   ]
  },
  {
   "cell_type": "code",
   "execution_count": null,
   "metadata": {},
   "outputs": [
    {
     "data": {
      "text/plain": [
       "Index(['Unnamed: 0.1', 'Unnamed: 0', 'NODE_ID', '정류소명', 'X좌표_x', 'Y좌표_x',\n",
       "       '법정동코드', '법정동_구', '법정동', 'academy_cnt', 'kindergarten_cnt', 'mart_cnt',\n",
       "       'restaurant_cnt', 'school_cnt', 'university_cnt', 'subway_cnt',\n",
       "       'tour_cnt', 'cafe_cnt', 'hospital_cnt', 'culture_cnt',\n",
       "       'univ_hospital_cnt', 'public_office_cnt', 'employee_cnt', 'alone_ratio',\n",
       "       'emp_corp_ratio', 'population_15to64', 'RIDE_SUM_6_10',\n",
       "       'ALIGHT_SUM_6_10', '노선번호', 'X좌표_y', 'Y좌표_y', 'gmm_cluster'],\n",
       "      dtype='object')"
      ]
     },
     "execution_count": 59,
     "metadata": {},
     "output_type": "execute_result"
    }
   ],
   "source": [
    "gmm_daram_result_df.columns"
   ]
  },
  {
   "cell_type": "code",
   "execution_count": null,
   "metadata": {},
   "outputs": [],
   "source": [
    "# 불필요한 컬럼 삭제 \n",
    "gmm_daram_result_df=gmm_daram_result_df.drop(['X좌표_y','Y좌표_y'], axis=1)\n",
    "gmm_daram_result_df.rename(columns={'X좌표_x':'X좌표','Y좌표_x' :'Y좌표'}, inplace=True)"
   ]
  },
  {
   "cell_type": "markdown",
   "metadata": {},
   "source": [
    "### 1-4. GMM 클러스터링된 코사인 유사도에서 후보군 제거 "
   ]
  },
  {
   "cell_type": "code",
   "execution_count": null,
   "metadata": {},
   "outputs": [
    {
     "data": {
      "text/plain": [
       "['장안동',\n",
       " '답십리동',\n",
       " '신천동',\n",
       " '방이동',\n",
       " '오금동',\n",
       " '마천동',\n",
       " '수서동',\n",
       " '세곡동',\n",
       " '자곡동',\n",
       " '노량진동',\n",
       " '상도동',\n",
       " '봉천동',\n",
       " '신림동',\n",
       " '창전동',\n",
       " '노고산동',\n",
       " '여의도동',\n",
       " '신사동',\n",
       " '응암동',\n",
       " '구산동',\n",
       " '역촌동']"
      ]
     },
     "execution_count": 65,
     "metadata": {},
     "output_type": "execute_result"
    }
   ],
   "source": [
    "gmm_daram_result_df['구-동']=gmm_daram_result_df['법정동_구']+gmm_daram_result_df['법정동']\n",
    "# 기존 다람쥐 버스 (95개)가 있는 동을 리스트로 뽑기 \n",
    "daram_95_gu_list = daram_df['법정동_구'].drop_duplicates().tolist()\n",
    "daram_95_gu_dong_list = daram_df['법정동'].drop_duplicates().tolist()\n",
    "daram_95_gu_dong_list"
   ]
  },
  {
   "cell_type": "code",
   "execution_count": null,
   "metadata": {},
   "outputs": [],
   "source": [
    "drop_cosine_daram_df = gmm_daram_result_df[~gmm_daram_result_df['구-동'].isin(daram_95_gu_dong_list)]"
   ]
  },
  {
   "cell_type": "code",
   "execution_count": null,
   "metadata": {},
   "outputs": [],
   "source": [
    "# 다람쥐 버스가 있던 동 제거\n",
    "drop_cosine_daram_df = gmm_daram_result_df[~gmm_daram_result_df['구-동'].isin(daram_95_gu_dong_list)]\n",
    "# 다람쥐 버스가 있던 구 제거\n",
    "drop_gu_cosine_daram_df = drop_cosine_daram_df[~drop_cosine_daram_df['법정동_구'].isin(daram_95_gu_list)]"
   ]
  },
  {
   "cell_type": "markdown",
   "metadata": {},
   "source": [
    "### 1-5. 기존 다람쥐 버스 정류장 근처 지역 제거       \n",
    "새로운 지역에 다람쥐 버스 경로를 신설하기 위해, 기존 다람쥐 버스와 가깝지 않은 정류장들을 선택 해야함. "
   ]
  },
  {
   "cell_type": "code",
   "execution_count": null,
   "metadata": {},
   "outputs": [
    {
     "data": {
      "text/plain": [
       "['장안동',\n",
       " '답십리동',\n",
       " '신천동',\n",
       " '방이동',\n",
       " '오금동',\n",
       " '마천동',\n",
       " '수서동',\n",
       " '세곡동',\n",
       " '자곡동',\n",
       " '노량진동',\n",
       " '상도동',\n",
       " '봉천동',\n",
       " '신림동',\n",
       " '창전동',\n",
       " '노고산동',\n",
       " '여의도동',\n",
       " '신사동',\n",
       " '응암동',\n",
       " '구산동',\n",
       " '역촌동']"
      ]
     },
     "execution_count": 68,
     "metadata": {},
     "output_type": "execute_result"
    }
   ],
   "source": [
    "# 동이 뭐가 있는지 보기\n",
    "region_list=drop_cosine_daram_df['법정동'].drop_duplicates().tolist()\n",
    "region_list"
   ]
  },
  {
   "cell_type": "code",
   "execution_count": null,
   "metadata": {},
   "outputs": [],
   "source": []
  }
 ],
 "metadata": {
  "kernelspec": {
   "display_name": "base",
   "language": "python",
   "name": "python3"
  },
  "language_info": {
   "codemirror_mode": {
    "name": "ipython",
    "version": 3
   },
   "file_extension": ".py",
   "mimetype": "text/x-python",
   "name": "python",
   "nbconvert_exporter": "python",
   "pygments_lexer": "ipython3",
   "version": "3.9.13"
  },
  "orig_nbformat": 4
 },
 "nbformat": 4,
 "nbformat_minor": 2
}
