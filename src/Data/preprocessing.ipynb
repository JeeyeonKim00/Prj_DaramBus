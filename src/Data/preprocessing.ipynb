{
 "cells": [
  {
   "cell_type": "markdown",
   "metadata": {},
   "source": [
    "# 버스 승객 승하차 수 전처리 "
   ]
  },
  {
   "cell_type": "markdown",
   "metadata": {},
   "source": [
    "### 1. 버스 승객수 월별 시간별 승하차 수 데이터      \n",
    "추정치를 구하기 위해 하루중 1시간단위로 승객의 승하차 비율을 구함.  "
   ]
  },
  {
   "cell_type": "code",
   "execution_count": 1,
   "metadata": {},
   "outputs": [
    {
     "name": "stdout",
     "output_type": "stream",
     "text": [
      "Requirement already satisfied: pymysql in c:\\users\\user\\anaconda3\\lib\\site-packages (1.0.3)\n",
      "Requirement already satisfied: sqlalchemy in c:\\users\\user\\anaconda3\\lib\\site-packages (1.4.39)\n",
      "Requirement already satisfied: greenlet!=0.4.17 in c:\\users\\user\\anaconda3\\lib\\site-packages (from sqlalchemy) (2.0.1)\n"
     ]
    }
   ],
   "source": [
    "!pip install pymysql\n",
    "!pip install sqlalchemy"
   ]
  },
  {
   "cell_type": "code",
   "execution_count": 2,
   "metadata": {},
   "outputs": [],
   "source": [
    "import pandas as pd\n",
    "import pymysql\n",
    "from Load import *\n",
    "from sqlalchemy import *\n",
    "from module import *\n",
    "from bus_preprocessing import *"
   ]
  },
  {
   "cell_type": "code",
   "execution_count": 3,
   "metadata": {},
   "outputs": [
    {
     "name": "stderr",
     "output_type": "stream",
     "text": [
      "C:\\Users\\user\\AppData\\Local\\Temp\\ipykernel_31684\\2383374866.py:2: DtypeWarning: Columns (3,55) have mixed types. Specify dtype option on import or set low_memory=False.\n",
      "  bus_station_time_df= pd.read_csv('월별_시간별_버스승객수_승하차_raw.csv', encoding='utf-8-sig')\n",
      "c:\\Users\\user\\Desktop\\CM_리팩토링_git용\\전처리\\bus_preprocessing.py:22: SettingWithCopyWarning: \n",
      "A value is trying to be set on a copy of a slice from a DataFrame.\n",
      "Try using .loc[row_indexer,col_indexer] = value instead\n",
      "\n",
      "See the caveats in the documentation: https://pandas.pydata.org/pandas-docs/stable/user_guide/indexing.html#returning-a-view-versus-a-copy\n",
      "  ride_df['승차인원 수']=ride_df.sum(axis=1)\n",
      "c:\\Users\\user\\Desktop\\CM_리팩토링_git용\\전처리\\bus_preprocessing.py:23: SettingWithCopyWarning: \n",
      "A value is trying to be set on a copy of a slice from a DataFrame.\n",
      "Try using .loc[row_indexer,col_indexer] = value instead\n",
      "\n",
      "See the caveats in the documentation: https://pandas.pydata.org/pandas-docs/stable/user_guide/indexing.html#returning-a-view-versus-a-copy\n",
      "  alight_df['하차인원 수']=alight_df.sum(axis=1)\n",
      "c:\\Users\\user\\Desktop\\CM_리팩토링_git용\\전처리\\bus_preprocessing.py:31: SettingWithCopyWarning: \n",
      "A value is trying to be set on a copy of a slice from a DataFrame.\n",
      "Try using .loc[row_indexer,col_indexer] = value instead\n",
      "\n",
      "See the caveats in the documentation: https://pandas.pydata.org/pandas-docs/stable/user_guide/indexing.html#returning-a-view-versus-a-copy\n",
      "  ride_df[ride_rate]=ride_df[ride_time]/ ride_df['승차인원 수']\n",
      "c:\\Users\\user\\Desktop\\CM_리팩토링_git용\\전처리\\bus_preprocessing.py:32: SettingWithCopyWarning: \n",
      "A value is trying to be set on a copy of a slice from a DataFrame.\n",
      "Try using .loc[row_indexer,col_indexer] = value instead\n",
      "\n",
      "See the caveats in the documentation: https://pandas.pydata.org/pandas-docs/stable/user_guide/indexing.html#returning-a-view-versus-a-copy\n",
      "  alight_df[alight_rate]=alight_df[alight_time]/ alight_df['하차인원 수']\n",
      "c:\\Users\\user\\Desktop\\CM_리팩토링_git용\\전처리\\bus_preprocessing.py:31: SettingWithCopyWarning: \n",
      "A value is trying to be set on a copy of a slice from a DataFrame.\n",
      "Try using .loc[row_indexer,col_indexer] = value instead\n",
      "\n",
      "See the caveats in the documentation: https://pandas.pydata.org/pandas-docs/stable/user_guide/indexing.html#returning-a-view-versus-a-copy\n",
      "  ride_df[ride_rate]=ride_df[ride_time]/ ride_df['승차인원 수']\n",
      "c:\\Users\\user\\Desktop\\CM_리팩토링_git용\\전처리\\bus_preprocessing.py:32: SettingWithCopyWarning: \n",
      "A value is trying to be set on a copy of a slice from a DataFrame.\n",
      "Try using .loc[row_indexer,col_indexer] = value instead\n",
      "\n",
      "See the caveats in the documentation: https://pandas.pydata.org/pandas-docs/stable/user_guide/indexing.html#returning-a-view-versus-a-copy\n",
      "  alight_df[alight_rate]=alight_df[alight_time]/ alight_df['하차인원 수']\n",
      "c:\\Users\\user\\Desktop\\CM_리팩토링_git용\\전처리\\bus_preprocessing.py:31: SettingWithCopyWarning: \n",
      "A value is trying to be set on a copy of a slice from a DataFrame.\n",
      "Try using .loc[row_indexer,col_indexer] = value instead\n",
      "\n",
      "See the caveats in the documentation: https://pandas.pydata.org/pandas-docs/stable/user_guide/indexing.html#returning-a-view-versus-a-copy\n",
      "  ride_df[ride_rate]=ride_df[ride_time]/ ride_df['승차인원 수']\n",
      "c:\\Users\\user\\Desktop\\CM_리팩토링_git용\\전처리\\bus_preprocessing.py:32: SettingWithCopyWarning: \n",
      "A value is trying to be set on a copy of a slice from a DataFrame.\n",
      "Try using .loc[row_indexer,col_indexer] = value instead\n",
      "\n",
      "See the caveats in the documentation: https://pandas.pydata.org/pandas-docs/stable/user_guide/indexing.html#returning-a-view-versus-a-copy\n",
      "  alight_df[alight_rate]=alight_df[alight_time]/ alight_df['하차인원 수']\n",
      "c:\\Users\\user\\Desktop\\CM_리팩토링_git용\\전처리\\bus_preprocessing.py:31: SettingWithCopyWarning: \n",
      "A value is trying to be set on a copy of a slice from a DataFrame.\n",
      "Try using .loc[row_indexer,col_indexer] = value instead\n",
      "\n",
      "See the caveats in the documentation: https://pandas.pydata.org/pandas-docs/stable/user_guide/indexing.html#returning-a-view-versus-a-copy\n",
      "  ride_df[ride_rate]=ride_df[ride_time]/ ride_df['승차인원 수']\n",
      "c:\\Users\\user\\Desktop\\CM_리팩토링_git용\\전처리\\bus_preprocessing.py:32: SettingWithCopyWarning: \n",
      "A value is trying to be set on a copy of a slice from a DataFrame.\n",
      "Try using .loc[row_indexer,col_indexer] = value instead\n",
      "\n",
      "See the caveats in the documentation: https://pandas.pydata.org/pandas-docs/stable/user_guide/indexing.html#returning-a-view-versus-a-copy\n",
      "  alight_df[alight_rate]=alight_df[alight_time]/ alight_df['하차인원 수']\n"
     ]
    }
   ],
   "source": [
    "# 버스 승객수 월별 시간별 데이터\n",
    "bus_station_time_df= pd.read_csv('월별_시간별_버스승객수_승하차_raw.csv', encoding='utf-8-sig')\n",
    "total_bus_time_df=bus_month_time_passenger(bus_station_time_df)\n",
    "# csv로 내보내기 \n",
    "total_bus_time_df.to_csv(\"월별_시간별_버스승객수_승하차비율_완성본.csv\", encoding='UTF-8-sig')"
   ]
  },
  {
   "cell_type": "markdown",
   "metadata": {},
   "source": [
    "### 2. 버스 승객 승하차 하루 총 승하차 수 데이터 \n",
    "\n"
   ]
  },
  {
   "cell_type": "markdown",
   "metadata": {},
   "source": [
    "수집한 일별_버스승객_승하차 데이터를 데이터프레임으로 불러오고 필요한 컬럼들만 추출한다"
   ]
  },
  {
   "cell_type": "code",
   "execution_count": 4,
   "metadata": {},
   "outputs": [],
   "source": [
    "daily_bus_passenger_df_1 =pd.read_csv(\"일별_버스승객_승하차_1_raw.csv\", encoding='utf-8-sig')\n",
    "daily_bus_passenger_df_2 =pd.read_csv(\"일별_버스승객_승하차_2_raw.csv\", encoding='utf-8-sig')\n",
    "daily_bus_passenger_df_3 =pd.read_csv(\"일별_버스승객_승하차_3_raw.csv\", encoding='utf-8-sig')"
   ]
  },
  {
   "cell_type": "code",
   "execution_count": 5,
   "metadata": {},
   "outputs": [],
   "source": [
    "daily_bus_passenger_list=[daily_bus_passenger_df_1, daily_bus_passenger_df_2, daily_bus_passenger_df_3]\n",
    "daily_bus_passenger_df=pd.DataFrame()\n",
    "\n",
    "for daily_bus_passenger_data in daily_bus_passenger_list:\n",
    "    daily_bus_passenger_data = daily_bus_passenger(daily_bus_passenger_data)\n",
    "    daily_bus_passenger_df=pd.concat([daily_bus_passenger_df,daily_bus_passenger_data], axis=0)\n"
   ]
  },
  {
   "cell_type": "code",
   "execution_count": 6,
   "metadata": {},
   "outputs": [
    {
     "data": {
      "text/html": [
       "<div>\n",
       "<style scoped>\n",
       "    .dataframe tbody tr th:only-of-type {\n",
       "        vertical-align: middle;\n",
       "    }\n",
       "\n",
       "    .dataframe tbody tr th {\n",
       "        vertical-align: top;\n",
       "    }\n",
       "\n",
       "    .dataframe thead th {\n",
       "        text-align: right;\n",
       "    }\n",
       "</style>\n",
       "<table border=\"1\" class=\"dataframe\">\n",
       "  <thead>\n",
       "    <tr style=\"text-align: right;\">\n",
       "      <th></th>\n",
       "      <th>RIDE_PASGR_NUM</th>\n",
       "      <th>ALIGHT_PASGR_NUM</th>\n",
       "      <th>월별_노선_정류장_ID</th>\n",
       "    </tr>\n",
       "  </thead>\n",
       "  <tbody>\n",
       "    <tr>\n",
       "      <th>0</th>\n",
       "      <td>12</td>\n",
       "      <td>0</td>\n",
       "      <td>202101_100_110000327</td>\n",
       "    </tr>\n",
       "    <tr>\n",
       "      <th>1</th>\n",
       "      <td>36</td>\n",
       "      <td>5</td>\n",
       "      <td>202101_100_110000335</td>\n",
       "    </tr>\n",
       "    <tr>\n",
       "      <th>2</th>\n",
       "      <td>19</td>\n",
       "      <td>20</td>\n",
       "      <td>202101_100_107000013</td>\n",
       "    </tr>\n",
       "    <tr>\n",
       "      <th>3</th>\n",
       "      <td>17</td>\n",
       "      <td>35</td>\n",
       "      <td>202101_100_107000014</td>\n",
       "    </tr>\n",
       "    <tr>\n",
       "      <th>4</th>\n",
       "      <td>55</td>\n",
       "      <td>80</td>\n",
       "      <td>202101_100_107000015</td>\n",
       "    </tr>\n",
       "    <tr>\n",
       "      <th>...</th>\n",
       "      <td>...</td>\n",
       "      <td>...</td>\n",
       "      <td>...</td>\n",
       "    </tr>\n",
       "    <tr>\n",
       "      <th>7656029</th>\n",
       "      <td>10</td>\n",
       "      <td>76</td>\n",
       "      <td>202305_8762_113000180</td>\n",
       "    </tr>\n",
       "    <tr>\n",
       "      <th>7656030</th>\n",
       "      <td>236</td>\n",
       "      <td>4</td>\n",
       "      <td>202305_8762_113000202</td>\n",
       "    </tr>\n",
       "    <tr>\n",
       "      <th>7656031</th>\n",
       "      <td>46</td>\n",
       "      <td>69</td>\n",
       "      <td>202305_8762_113000204</td>\n",
       "    </tr>\n",
       "    <tr>\n",
       "      <th>7656032</th>\n",
       "      <td>4</td>\n",
       "      <td>86</td>\n",
       "      <td>202305_8762_113000450</td>\n",
       "    </tr>\n",
       "    <tr>\n",
       "      <th>7656033</th>\n",
       "      <td>22</td>\n",
       "      <td>34</td>\n",
       "      <td>202305_8762_113000452</td>\n",
       "    </tr>\n",
       "  </tbody>\n",
       "</table>\n",
       "<p>34988710 rows × 3 columns</p>\n",
       "</div>"
      ],
      "text/plain": [
       "         RIDE_PASGR_NUM  ALIGHT_PASGR_NUM           월별_노선_정류장_ID\n",
       "0                    12                 0   202101_100_110000327\n",
       "1                    36                 5   202101_100_110000335\n",
       "2                    19                20   202101_100_107000013\n",
       "3                    17                35   202101_100_107000014\n",
       "4                    55                80   202101_100_107000015\n",
       "...                 ...               ...                    ...\n",
       "7656029              10                76  202305_8762_113000180\n",
       "7656030             236                 4  202305_8762_113000202\n",
       "7656031              46                69  202305_8762_113000204\n",
       "7656032               4                86  202305_8762_113000450\n",
       "7656033              22                34  202305_8762_113000452\n",
       "\n",
       "[34988710 rows x 3 columns]"
      ]
     },
     "execution_count": 6,
     "metadata": {},
     "output_type": "execute_result"
    }
   ],
   "source": [
    "daily_bus_passenger_df"
   ]
  },
  {
   "cell_type": "markdown",
   "metadata": {},
   "source": [
    "### 3. 월별 시간별 승객수 데이터와 일별 총 승객수 데이터를 병합 후 추정치 구하기    \n",
    "계산식 : 시간별 승객 승하차 비율 X 일별 총 승객 승하차 수 = 매일 시간별 승객 승하차 수          \n",
    "병합 기준 : 일별 총 승객 승하차 수 (매일매일 시간별로 승객수를 알아야하므로)"
   ]
  },
  {
   "cell_type": "code",
   "execution_count": 7,
   "metadata": {},
   "outputs": [],
   "source": [
    "# RIGHT MERGE\n",
    "daily_time_bus_passenger = total_bus_time_df.merge(daily_bus_passenger_df, on='월별_노선_정류장_ID', how='right')"
   ]
  },
  {
   "cell_type": "code",
   "execution_count": 8,
   "metadata": {},
   "outputs": [],
   "source": [
    "daily_time_bus_passenger=daily_time_bus_passenger.dropna()\n",
    "daily_time_bus_passenger['USE_MON']=daily_time_bus_passenger['USE_MON'].astype(int)"
   ]
  },
  {
   "cell_type": "code",
   "execution_count": 9,
   "metadata": {},
   "outputs": [],
   "source": [
    "# 매일 시간별로 승객수 추정치 구하기 \n",
    "daily_time_bus_passenger_final=calculate_passenger(daily_time_bus_passenger)   "
   ]
  },
  {
   "cell_type": "code",
   "execution_count": 10,
   "metadata": {},
   "outputs": [],
   "source": [
    "daily_time_bus_passenger_final.to_csv('일별_시간별_버스승객_승하차_추정치.csv',encoding='UTF-8-sig')"
   ]
  }
 ],
 "metadata": {
  "kernelspec": {
   "display_name": "base",
   "language": "python",
   "name": "python3"
  },
  "language_info": {
   "codemirror_mode": {
    "name": "ipython",
    "version": 3
   },
   "file_extension": ".py",
   "mimetype": "text/x-python",
   "name": "python",
   "nbconvert_exporter": "python",
   "pygments_lexer": "ipython3",
   "version": "3.10.9"
  },
  "orig_nbformat": 4
 },
 "nbformat": 4,
 "nbformat_minor": 2
}
