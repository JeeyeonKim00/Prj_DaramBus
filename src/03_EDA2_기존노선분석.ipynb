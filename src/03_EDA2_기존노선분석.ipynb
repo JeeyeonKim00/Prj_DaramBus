{
 "cells": [
  {
   "cell_type": "markdown",
   "metadata": {},
   "source": [
    "## 기준1. 좌표로 거리 구하기       \n",
    "st_end_daram_df"
   ]
  },
  {
   "cell_type": "markdown",
   "metadata": {},
   "source": [
    "다람쥐 버스 정류장의 시작점과 종점의 직선거리를 구하여, 기존 다람쥐 버스 노선의 운행 범위를 알아보려고 함."
   ]
  },
  {
   "cell_type": "code",
   "execution_count": 27,
   "metadata": {},
   "outputs": [],
   "source": [
    "import sys\n",
    "import pandas as pd\n",
    "\n",
    "sys.path.append('./EDA')\n",
    "sys.path.append('./Modeling')\n",
    "sys.path.append('./Data/csv')\n",
    "\n",
    "from EDA_STEP_1 import *\n",
    "from visualization import *\n",
    "from clustering import *"
   ]
  },
  {
   "cell_type": "code",
   "execution_count": 2,
   "metadata": {},
   "outputs": [],
   "source": [
    "st_end_daram_df = get_daram_14_station_df()"
   ]
  },
  {
   "cell_type": "code",
   "execution_count": 3,
   "metadata": {},
   "outputs": [
    {
     "data": {
      "text/plain": [
       "[('111000128', '111000291'),\n",
       " ('113000113', '118000048'),\n",
       " ('120000156', '119000024'),\n",
       " ('120000109', '120000018'),\n",
       " ('105000127', '105000072'),\n",
       " ('122000305', '122000302'),\n",
       " ('123000209', '123000043')]"
      ]
     },
     "execution_count": 3,
     "metadata": {},
     "output_type": "execute_result"
    }
   ],
   "source": [
    "start_station = ['111000128','113000113','120000156','120000109','105000127','122000305','123000209']\n",
    "end_station =   ['111000291','118000048','119000024','120000018','105000072','122000302','123000043']\n",
    "st_end_node_list = []\n",
    "for st_end_node in zip(start_station,end_station):\n",
    "    st_end_node_list.append(st_end_node)\n",
    "st_end_node_list"
   ]
  },
  {
   "cell_type": "code",
   "execution_count": 4,
   "metadata": {},
   "outputs": [],
   "source": [
    "import math\n",
    "# 하버사인 공식:\n",
    "## - 지구 곡률을 반영하여 두 지표 사이의 거리를 각도, 호를 사용하여 구하는 방식.\n",
    "## latitude: 위도(36), longitude: 경도(127)\n",
    "\n",
    "def haversine_distance(lat1, lon1, lat2, lon2):\n",
    "    R = 6371  # 지구의 반지름\n",
    "\n",
    "    # Convert latitude and longitude from degrees to radians\n",
    "    lat1_rad = math.radians(lat1)\n",
    "    lon1_rad = math.radians(lon1)\n",
    "    lat2_rad = math.radians(lat2)\n",
    "    lon2_rad = math.radians(lon2)\n",
    "\n",
    "    # Haversine formula\n",
    "    dlat = lat2_rad - lat1_rad\n",
    "    dlon = lon2_rad - lon1_rad\n",
    "    a = math.sin(dlat / 2) ** 2 + math.cos(lat1_rad) * math.cos(lat2_rad) * math.sin(dlon / 2) ** 2\n",
    "    c = 2 * math.atan2(math.sqrt(a), math.sqrt(1 - a))\n",
    "    distance = R * c\n",
    "\n",
    "    return distance\n"
   ]
  },
  {
   "cell_type": "code",
   "execution_count": 5,
   "metadata": {},
   "outputs": [],
   "source": [
    "df_node_distance = pd.DataFrame(columns=['BUS_NUM','Radius'])\n",
    "for bus in st_end_node_list:\n",
    "    lon1 = float(st_end_daram_df['X좌표'][st_end_daram_df['NODE_ID']== bus[0]].iloc[0])\n",
    "    lat1 = float(st_end_daram_df['Y좌표'][st_end_daram_df['NODE_ID']== bus[0]].iloc[0])\n",
    "    lon2 = float(st_end_daram_df['X좌표'][st_end_daram_df['NODE_ID']== bus[1]].iloc[0])\n",
    "    lat2 = float(st_end_daram_df['Y좌표'][st_end_daram_df['NODE_ID']== bus[1]].iloc[0])\n",
    "    bus_num = st_end_daram_df['노선명'][st_end_daram_df['NODE_ID']==bus[0]].iloc[0]\n",
    "    \n",
    "    radius = haversine_distance(lat1, lon1, lat2, lon2)\n",
    "    new_data = {'BUS_NUM':bus_num,'Radius':radius}\n",
    "    df_node_distance = df_node_distance.append(new_data, ignore_index=True)"
   ]
  },
  {
   "cell_type": "code",
   "execution_count": 8,
   "metadata": {},
   "outputs": [
    {
     "data": {
      "text/html": [
       "<div>\n",
       "<style scoped>\n",
       "    .dataframe tbody tr th:only-of-type {\n",
       "        vertical-align: middle;\n",
       "    }\n",
       "\n",
       "    .dataframe tbody tr th {\n",
       "        vertical-align: top;\n",
       "    }\n",
       "\n",
       "    .dataframe thead th {\n",
       "        text-align: right;\n",
       "    }\n",
       "</style>\n",
       "<table border=\"1\" class=\"dataframe\">\n",
       "  <thead>\n",
       "    <tr style=\"text-align: right;\">\n",
       "      <th></th>\n",
       "      <th>BUS_NUM</th>\n",
       "      <th>Radius</th>\n",
       "    </tr>\n",
       "  </thead>\n",
       "  <tbody>\n",
       "    <tr>\n",
       "      <th>0</th>\n",
       "      <td>8771</td>\n",
       "      <td>2.253933</td>\n",
       "    </tr>\n",
       "    <tr>\n",
       "      <th>1</th>\n",
       "      <td>8761</td>\n",
       "      <td>3.270516</td>\n",
       "    </tr>\n",
       "    <tr>\n",
       "      <th>2</th>\n",
       "      <td>8551</td>\n",
       "      <td>3.377080</td>\n",
       "    </tr>\n",
       "    <tr>\n",
       "      <th>3</th>\n",
       "      <td>8552</td>\n",
       "      <td>2.189844</td>\n",
       "    </tr>\n",
       "    <tr>\n",
       "      <th>4</th>\n",
       "      <td>8221</td>\n",
       "      <td>2.017190</td>\n",
       "    </tr>\n",
       "    <tr>\n",
       "      <th>5</th>\n",
       "      <td>8441</td>\n",
       "      <td>2.383591</td>\n",
       "    </tr>\n",
       "    <tr>\n",
       "      <th>6</th>\n",
       "      <td>8331</td>\n",
       "      <td>4.338116</td>\n",
       "    </tr>\n",
       "  </tbody>\n",
       "</table>\n",
       "</div>"
      ],
      "text/plain": [
       "  BUS_NUM    Radius\n",
       "0    8771  2.253933\n",
       "1    8761  3.270516\n",
       "2    8551  3.377080\n",
       "3    8552  2.189844\n",
       "4    8221  2.017190\n",
       "5    8441  2.383591\n",
       "6    8331  4.338116"
      ]
     },
     "execution_count": 8,
     "metadata": {},
     "output_type": "execute_result"
    }
   ],
   "source": [
    "df_node_distance"
   ]
  },
  {
   "cell_type": "markdown",
   "metadata": {},
   "source": [
    "기준 1 : 모든 다람쥐 버스 노선의 시작점과 종점의 직선거리는 2km이상 4.5km 이내이다."
   ]
  },
  {
   "cell_type": "markdown",
   "metadata": {},
   "source": [
    "## 기준 1에 따라 후보군 제거하기"
   ]
  },
  {
   "cell_type": "markdown",
   "metadata": {},
   "source": [
    "### 1-1. GMM 클러스터된 다람쥐 데이터 가져오기  \n",
    "GMM 군집결과 총 11개의 클래스."
   ]
  },
  {
   "cell_type": "code",
   "execution_count": 28,
   "metadata": {},
   "outputs": [],
   "source": [
    "# gmm 다람쥐 csv 가져오기\n",
    "gmm_daram_df = pd.read_csv('./Data/csv/gmm_daram.csv', encoding='UTF-8')\n",
    "gmm_daram_df=gmm_daram_df[['X좌표','Y좌표','NODE_ID', 'gmm_cluster']]\n",
    "gmm_daram_df\n",
    "\n",
    "# 다람쥐 95개 정류장 csv 가져오기\n",
    "daram_df = pd.read_csv('./Data/csv/다람쥐95개정류장.csv', encoding='cp949')"
   ]
  },
  {
   "cell_type": "markdown",
   "metadata": {},
   "source": [
    "### 1-2.유사도로 뽑은 버스 데이터 가져오기"
   ]
  },
  {
   "cell_type": "code",
   "execution_count": 31,
   "metadata": {},
   "outputs": [],
   "source": [
    "cosine_daram_df=pd.read_csv('./Data/csv/cosine_similarity_daram.csv', encoding='utf-8')"
   ]
  },
  {
   "cell_type": "markdown",
   "metadata": {},
   "source": [
    "### 1-3. 95개 다람쥐 버스 정류장에 gmm 군집결과를 labeling "
   ]
  },
  {
   "cell_type": "code",
   "execution_count": 32,
   "metadata": {},
   "outputs": [],
   "source": [
    "gmm_daram_result_df = pd.merge(daram_df,gmm_daram_df, left_on='NODE_ID' ,right_on='NODE_ID',how='left')"
   ]
  },
  {
   "cell_type": "code",
   "execution_count": 33,
   "metadata": {},
   "outputs": [
    {
     "data": {
      "text/plain": [
       "Index(['Unnamed: 0.1', 'Unnamed: 0', 'NODE_ID', '정류소명', 'X좌표_x', 'Y좌표_x',\n",
       "       '법정동코드', '법정동_구', '법정동', 'academy_cnt', 'kindergarten_cnt', 'mart_cnt',\n",
       "       'restaurant_cnt', 'school_cnt', 'university_cnt', 'subway_cnt',\n",
       "       'tour_cnt', 'cafe_cnt', 'hospital_cnt', 'culture_cnt',\n",
       "       'univ_hospital_cnt', 'public_office_cnt', 'employee_cnt', 'alone_ratio',\n",
       "       'emp_corp_ratio', 'population_15to64', 'RIDE_SUM_6_10',\n",
       "       'ALIGHT_SUM_6_10', '노선번호', 'X좌표_y', 'Y좌표_y', 'gmm_cluster'],\n",
       "      dtype='object')"
      ]
     },
     "execution_count": 33,
     "metadata": {},
     "output_type": "execute_result"
    }
   ],
   "source": [
    "gmm_daram_result_df.columns"
   ]
  },
  {
   "cell_type": "code",
   "execution_count": 34,
   "metadata": {},
   "outputs": [],
   "source": [
    "# 불필요한 컬럼 삭제 \n",
    "gmm_daram_result_df=gmm_daram_result_df.drop(['X좌표_y','Y좌표_y'], axis=1)\n",
    "gmm_daram_result_df.rename(columns={'X좌표_x':'X좌표','Y좌표_x' :'Y좌표'}, inplace=True)"
   ]
  },
  {
   "cell_type": "markdown",
   "metadata": {},
   "source": [
    "### 1-4. GMM 클러스터링된 코사인 유사도에서 후보군 제거 "
   ]
  },
  {
   "cell_type": "code",
   "execution_count": 35,
   "metadata": {},
   "outputs": [
    {
     "data": {
      "text/plain": [
       "['장안동',\n",
       " '답십리동',\n",
       " '신천동',\n",
       " '방이동',\n",
       " '오금동',\n",
       " '마천동',\n",
       " '수서동',\n",
       " '세곡동',\n",
       " '자곡동',\n",
       " '노량진동',\n",
       " '상도동',\n",
       " '봉천동',\n",
       " '신림동',\n",
       " '창전동',\n",
       " '노고산동',\n",
       " '여의도동',\n",
       " '신사동',\n",
       " '응암동',\n",
       " '구산동',\n",
       " '역촌동']"
      ]
     },
     "execution_count": 35,
     "metadata": {},
     "output_type": "execute_result"
    }
   ],
   "source": [
    "gmm_daram_result_df['구-동']=gmm_daram_result_df['법정동_구']+gmm_daram_result_df['법정동']\n",
    "# 기존 다람쥐 버스 (95개)가 있는 동을 리스트로 뽑기 \n",
    "daram_95_gu_list = daram_df['법정동_구'].drop_duplicates().tolist()\n",
    "daram_95_gu_dong_list = daram_df['법정동'].drop_duplicates().tolist()\n",
    "daram_95_gu_dong_list"
   ]
  },
  {
   "cell_type": "code",
   "execution_count": 40,
   "metadata": {},
   "outputs": [],
   "source": [
    "drop_cosine_daram_df = gmm_daram_result_df[~gmm_daram_result_df['구-동'].isin(daram_95_gu_dong_list)]"
   ]
  },
  {
   "cell_type": "code",
   "execution_count": 41,
   "metadata": {},
   "outputs": [],
   "source": [
    "# 다람쥐 버스가 있던 동 제거\n",
    "drop_cosine_daram_df = gmm_daram_result_df[~gmm_daram_result_df['구-동'].isin(daram_95_gu_dong_list)]\n",
    "# 다람쥐 버스가 있던 구 제거\n",
    "drop_gu_cosine_daram_df = drop_cosine_daram_df[~drop_cosine_daram_df['법정동_구'].isin(daram_95_gu_list)]"
   ]
  },
  {
   "cell_type": "markdown",
   "metadata": {},
   "source": [
    "### 1-5. 기존 다람쥐 버스 정류장 근처 지역 제거       \n",
    "새로운 지역에 다람쥐 버스 경로를 신설하기 위해, 기존 다람쥐 버스와 가깝지 않은 정류장들을 선택 해야함. "
   ]
  },
  {
   "cell_type": "code",
   "execution_count": 38,
   "metadata": {},
   "outputs": [
    {
     "data": {
      "text/plain": [
       "['장안동',\n",
       " '답십리동',\n",
       " '신천동',\n",
       " '방이동',\n",
       " '오금동',\n",
       " '마천동',\n",
       " '수서동',\n",
       " '세곡동',\n",
       " '자곡동',\n",
       " '노량진동',\n",
       " '상도동',\n",
       " '봉천동',\n",
       " '신림동',\n",
       " '창전동',\n",
       " '노고산동',\n",
       " '여의도동',\n",
       " '신사동',\n",
       " '응암동',\n",
       " '구산동',\n",
       " '역촌동']"
      ]
     },
     "execution_count": 38,
     "metadata": {},
     "output_type": "execute_result"
    }
   ],
   "source": [
    "# 동이 뭐가 있는지 보기\n",
    "region_list=drop_cosine_daram_df['법정동'].drop_duplicates().tolist()\n",
    "region_list"
   ]
  },
  {
   "cell_type": "code",
   "execution_count": 42,
   "metadata": {},
   "outputs": [
    {
     "data": {
      "text/html": [
       "<div>\n",
       "<style scoped>\n",
       "    .dataframe tbody tr th:only-of-type {\n",
       "        vertical-align: middle;\n",
       "    }\n",
       "\n",
       "    .dataframe tbody tr th {\n",
       "        vertical-align: top;\n",
       "    }\n",
       "\n",
       "    .dataframe thead th {\n",
       "        text-align: right;\n",
       "    }\n",
       "</style>\n",
       "<table border=\"1\" class=\"dataframe\">\n",
       "  <thead>\n",
       "    <tr style=\"text-align: right;\">\n",
       "      <th></th>\n",
       "      <th>Unnamed: 0.1</th>\n",
       "      <th>Unnamed: 0</th>\n",
       "      <th>NODE_ID</th>\n",
       "      <th>정류소명</th>\n",
       "      <th>X좌표</th>\n",
       "      <th>Y좌표</th>\n",
       "      <th>법정동코드</th>\n",
       "      <th>법정동_구</th>\n",
       "      <th>법정동</th>\n",
       "      <th>academy_cnt</th>\n",
       "      <th>...</th>\n",
       "      <th>public_office_cnt</th>\n",
       "      <th>employee_cnt</th>\n",
       "      <th>alone_ratio</th>\n",
       "      <th>emp_corp_ratio</th>\n",
       "      <th>population_15to64</th>\n",
       "      <th>RIDE_SUM_6_10</th>\n",
       "      <th>ALIGHT_SUM_6_10</th>\n",
       "      <th>노선번호</th>\n",
       "      <th>gmm_cluster</th>\n",
       "      <th>구-동</th>\n",
       "    </tr>\n",
       "  </thead>\n",
       "  <tbody>\n",
       "  </tbody>\n",
       "</table>\n",
       "<p>0 rows × 31 columns</p>\n",
       "</div>"
      ],
      "text/plain": [
       "Empty DataFrame\n",
       "Columns: [Unnamed: 0.1, Unnamed: 0, NODE_ID, 정류소명, X좌표, Y좌표, 법정동코드, 법정동_구, 법정동, academy_cnt, kindergarten_cnt, mart_cnt, restaurant_cnt, school_cnt, university_cnt, subway_cnt, tour_cnt, cafe_cnt, hospital_cnt, culture_cnt, univ_hospital_cnt, public_office_cnt, employee_cnt, alone_ratio, emp_corp_ratio, population_15to64, RIDE_SUM_6_10, ALIGHT_SUM_6_10, 노선번호, gmm_cluster, 구-동]\n",
       "Index: []\n",
       "\n",
       "[0 rows x 31 columns]"
      ]
     },
     "execution_count": 42,
     "metadata": {},
     "output_type": "execute_result"
    }
   ],
   "source": [
    "drop_gu_cosine_daram_df"
   ]
  }
 ],
 "metadata": {
  "kernelspec": {
   "display_name": "base",
   "language": "python",
   "name": "python3"
  },
  "language_info": {
   "codemirror_mode": {
    "name": "ipython",
    "version": 3
   },
   "file_extension": ".py",
   "mimetype": "text/x-python",
   "name": "python",
   "nbconvert_exporter": "python",
   "pygments_lexer": "ipython3",
   "version": "3.9.13"
  },
  "orig_nbformat": 4
 },
 "nbformat": 4,
 "nbformat_minor": 2
}
